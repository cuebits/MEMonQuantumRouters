{
 "cells": [
  {
   "cell_type": "markdown",
   "metadata": {},
   "source": [
    "# Three Layer Router - All Qubit Tomography"
   ]
  },
  {
   "cell_type": "code",
   "execution_count": 1,
   "metadata": {},
   "outputs": [],
   "source": [
    "import sys\n",
    "sys.path.append('..') # Search for custom module in the top level. \n",
    "\n",
    "# Import my custom modules.\n",
    "from allens_quantum_package.functions import * \n",
    "from allens_quantum_package.operators import *\n",
    "\n",
    "from qiskit import *\n",
    "from qiskit.quantum_info import state_fidelity\n",
    "from qiskit_aer import AerSimulator\n",
    "from qiskit_ibm_runtime import QiskitRuntimeService\n",
    "\n",
    "import scipy\n",
    "import numpy\n",
    "from numpy import set_printoptions, radians, ndarray, radians, array, sqrt\n",
    "\n",
    "import itertools"
   ]
  },
  {
   "cell_type": "code",
   "execution_count": 2,
   "metadata": {},
   "outputs": [],
   "source": [
    "# Set the floating point diplay precision to 3 decimal places, sufficient for our purposes.\n",
    "set_printoptions(precision=3)\n",
    "\n",
    "# Initialise the Qiskit runtime service. \n",
    "service = QiskitRuntimeService()"
   ]
  },
  {
   "cell_type": "code",
   "execution_count": 3,
   "metadata": {},
   "outputs": [],
   "source": [
    "states = [\n",
    "    (radians(-104), radians(-146)),\n",
    "    (radians(-158), radians(-108)),\n",
    "    (radians(-110), radians(-172))\n",
    "]"
   ]
  },
  {
   "cell_type": "code",
   "execution_count": 4,
   "metadata": {},
   "outputs": [],
   "source": [
    "def build_circuit(theta, phi) -> QuantumCircuit:\n",
    "    circ = QuantumCircuit(15)\n",
    "\n",
    "    # Route on first layer\n",
    "    circ.h(7)\n",
    "    circ.u(theta, phi, 0, 4)\n",
    "    circ.cswap(7, 4, 10)\n",
    "\n",
    "    # Route on second layer, top\n",
    "    circ.h(3)\n",
    "    circ.cswap(3, 2, 4)\n",
    "\n",
    "    # Route on second layer, bottom\n",
    "    circ.h(11)\n",
    "    circ.cswap(11, 10, 12)\n",
    "\n",
    "    # Route on third layer, first\n",
    "    circ.h(0)\n",
    "    circ.cswap(0, 1, 2)\n",
    "\n",
    "    # Route on third layer, second\n",
    "    circ.h(6)\n",
    "    circ.cswap(6, 4, 5)\n",
    "\n",
    "    # Route on third layer, third\n",
    "    circ.h(8)\n",
    "    circ.cswap(8, 9, 10)\n",
    "\n",
    "    # Route on third layer, fourth\n",
    "    circ.h(14)\n",
    "    circ.cswap(14, 12, 13)\n",
    "\n",
    "    return circ\n",
    "\n",
    "def build_tomography_set(circuit: QuantumCircuit) -> QuantumCircuit:\n",
    "    signal_paths = (1, 2, 4, 5, 9, 10, 12, 13)\n",
    "\n",
    "    circuit_x = circuit.copy()\n",
    "    circuit_x.h(signal_paths)\n",
    "    circuit_x.measure_all()\n",
    "    \n",
    "    circuit_y = circuit.copy()\n",
    "    circuit_y.sdg(signal_paths)\n",
    "    circuit_y.h(signal_paths)\n",
    "    circuit_y.measure_all()\n",
    "    \n",
    "    circuit_z = circuit.copy()\n",
    "    circuit_z.measure_all()\n",
    "    \n",
    "    return [circuit_x, circuit_y, circuit_z]\n"
   ]
  },
  {
   "cell_type": "code",
   "execution_count": 5,
   "metadata": {},
   "outputs": [
    {
     "data": {
      "text/html": [
       "<pre style=\"word-wrap: normal;white-space: pre;background: #fff0;line-height: 1.1;font-family: &quot;Courier New&quot;,Courier,monospace\">               ┌───┐                   \n",
       " q_0: ─────────┤ H ├─────────────────■─\n",
       "               └───┘                 │ \n",
       " q_1: ───────────────────────────────X─\n",
       "                                     │ \n",
       " q_2: ────────────────────────────X──X─\n",
       "               ┌───┐              │    \n",
       " q_3: ─────────┤ H ├──────────────■────\n",
       "      ┌────────┴───┴─────────┐    │    \n",
       " q_4: ┤ U(-1.8151,-2.5482,0) ├─X──X──X─\n",
       "      └──────────────────────┘ │     │ \n",
       " q_5: ─────────────────────────┼─────X─\n",
       "               ┌───┐           │     │ \n",
       " q_6: ─────────┤ H ├───────────┼─────■─\n",
       "               ├───┤           │       \n",
       " q_7: ─────────┤ H ├───────────■───────\n",
       "               ├───┤           │       \n",
       " q_8: ─────────┤ H ├───────────┼─────■─\n",
       "               └───┘           │     │ \n",
       " q_9: ─────────────────────────┼─────X─\n",
       "                               │     │ \n",
       "q_10: ─────────────────────────X──X──X─\n",
       "               ┌───┐              │    \n",
       "q_11: ─────────┤ H ├──────────────■────\n",
       "               └───┘              │    \n",
       "q_12: ────────────────────────────X──X─\n",
       "                                     │ \n",
       "q_13: ───────────────────────────────X─\n",
       "               ┌───┐                 │ \n",
       "q_14: ─────────┤ H ├─────────────────■─\n",
       "               └───┘                   </pre>"
      ],
      "text/plain": [
       "               ┌───┐                   \n",
       " q_0: ─────────┤ H ├─────────────────■─\n",
       "               └───┘                 │ \n",
       " q_1: ───────────────────────────────X─\n",
       "                                     │ \n",
       " q_2: ────────────────────────────X──X─\n",
       "               ┌───┐              │    \n",
       " q_3: ─────────┤ H ├──────────────■────\n",
       "      ┌────────┴───┴─────────┐    │    \n",
       " q_4: ┤ U(-1.8151,-2.5482,0) ├─X──X──X─\n",
       "      └──────────────────────┘ │     │ \n",
       " q_5: ─────────────────────────┼─────X─\n",
       "               ┌───┐           │     │ \n",
       " q_6: ─────────┤ H ├───────────┼─────■─\n",
       "               ├───┤           │       \n",
       " q_7: ─────────┤ H ├───────────■───────\n",
       "               ├───┤           │       \n",
       " q_8: ─────────┤ H ├───────────┼─────■─\n",
       "               └───┘           │     │ \n",
       " q_9: ─────────────────────────┼─────X─\n",
       "                               │     │ \n",
       "q_10: ─────────────────────────X──X──X─\n",
       "               ┌───┐              │    \n",
       "q_11: ─────────┤ H ├──────────────■────\n",
       "               └───┘              │    \n",
       "q_12: ────────────────────────────X──X─\n",
       "                                     │ \n",
       "q_13: ───────────────────────────────X─\n",
       "               ┌───┐                 │ \n",
       "q_14: ─────────┤ H ├─────────────────■─\n",
       "               └───┘                   "
      ]
     },
     "execution_count": 5,
     "metadata": {},
     "output_type": "execute_result"
    }
   ],
   "source": [
    "build_circuit(*states[0]).draw()"
   ]
  },
  {
   "cell_type": "code",
   "execution_count": 6,
   "metadata": {},
   "outputs": [],
   "source": [
    "circuits_to_send = list(itertools.chain.from_iterable([\n",
    "        circuit for circuit in [\n",
    "            build_tomography_set(build_circuit(theta, phi)) for theta, phi in states\n",
    "        ]\n",
    "    ]\n",
    "))"
   ]
  },
  {
   "cell_type": "code",
   "execution_count": 7,
   "metadata": {},
   "outputs": [],
   "source": [
    "ibm_brisbane = service.get_backend('ibm_brisbane')"
   ]
  },
  {
   "cell_type": "code",
   "execution_count": 8,
   "metadata": {},
   "outputs": [],
   "source": [
    "circuits_to_send = [transpile(circuit, ibm_brisbane) for circuit in circuits_to_send]"
   ]
  },
  {
   "cell_type": "code",
   "execution_count": 9,
   "metadata": {},
   "outputs": [],
   "source": [
    "def get_all_physical_qubits(circuit_list: list[QuantumCircuit]) -> set[int]:\n",
    "    all_indices = set()\n",
    "    for circ in circuit_list:    \n",
    "        measurement_indices = [instr[1][0]._index for instr in circ.data if instr[0].name == 'measure']\n",
    "        all_indices = all_indices.union(measurement_indices)\n",
    "    return all_indices\n",
    "\n",
    "\n",
    "def get_mitigation_circuits(circuit_list: list[QuantumCircuit]) -> list[QuantumCircuit]:\n",
    "\n",
    "    physical_qubits = get_all_physical_qubits(circuit_list)\n",
    "\n",
    "    num_qubits = len(physical_qubits)\n",
    "    all_0 = QuantumCircuit(127, num_qubits)\n",
    "    all_0.measure(physical_qubits, range(num_qubits))\n",
    "\n",
    "    all_1 = QuantumCircuit(127, num_qubits)\n",
    "    all_1.x(physical_qubits)\n",
    "    all_1.measure(physical_qubits, range(num_qubits))\n",
    "\n",
    "    return [all_0, all_1]"
   ]
  },
  {
   "cell_type": "code",
   "execution_count": 10,
   "metadata": {},
   "outputs": [],
   "source": [
    "circuits_to_send = get_mitigation_circuits(circuits_to_send) + circuits_to_send"
   ]
  },
  {
   "cell_type": "code",
   "execution_count": 11,
   "metadata": {},
   "outputs": [],
   "source": [
    "hardware_job = ibm_brisbane.run(circuits=circuits_to_send)"
   ]
  },
  {
   "cell_type": "code",
   "execution_count": 12,
   "metadata": {},
   "outputs": [
    {
     "name": "stdout",
     "output_type": "stream",
     "text": [
      "Hardware job ID: cw6gda5ggr6g0087cdg0\n"
     ]
    }
   ],
   "source": [
    "print(f\"Hardware job ID: {hardware_job.job_id()}\")"
   ]
  },
  {
   "cell_type": "markdown",
   "metadata": {},
   "source": [
    "---"
   ]
  },
  {
   "cell_type": "code",
   "execution_count": 13,
   "metadata": {},
   "outputs": [],
   "source": [
    "results = hardware_job.result().get_counts()"
   ]
  },
  {
   "cell_type": "code",
   "execution_count": 14,
   "metadata": {},
   "outputs": [],
   "source": [
    "def get_signal_qubit_idx_from_measurement_outcome(bit_string: str) -> int:\n",
    "    if bit_string[7] == '0':\n",
    "        if bit_string[11] == '0':\n",
    "            if bit_string[8] == '0':\n",
    "                return 10\n",
    "            else:\n",
    "                return 9\n",
    "        else:\n",
    "            if bit_string[14] == '0':\n",
    "                return 12\n",
    "            else:\n",
    "                return 13\n",
    "    else:\n",
    "        if bit_string[3] == '0':\n",
    "            if bit_string[6] == '0':\n",
    "                return 4\n",
    "            else:\n",
    "                return 5\n",
    "        else:\n",
    "            if bit_string[0] == '0':\n",
    "                return 2\n",
    "            else:\n",
    "                return 1\n",
    "\n",
    "\n",
    "def get_xyz_counts_for_circuit(counts_list: list) -> tuple[dict]:\n",
    "    output = []\n",
    "    for counts in counts_list:\n",
    "        counts_dict = {}\n",
    "        \n",
    "        counts_dict['0'] = sum(count for bit_string, count in counts.items() if bit_string[get_signal_qubit_idx_from_measurement_outcome(bit_string)] == '0')\n",
    "        counts_dict['1'] = sum(count for bit_string, count in counts.items() if bit_string[get_signal_qubit_idx_from_measurement_outcome(bit_string)] == '1')\n",
    "        \n",
    "        output.append(counts_dict)\n",
    "    \n",
    "    return tuple(output)\n",
    "\n",
    "\n",
    "def print_unmitigated_fidelities_combined(counts, theta, phi):\n",
    "\n",
    "    qubit = density_op_from_counts_dict(*get_xyz_counts_for_circuit(counts))\n",
    "\n",
    "    print(get_xyz_counts_for_circuit(counts))\n",
    "    print(qubit)\n",
    "\n",
    "    psi = gen_qubit(theta, phi)\n",
    "\n",
    "    fidelity_q = state_fidelity(qubit, psi)\n",
    "\n",
    "    print(f'State fidelity from combined counts: {fidelity_q}\\n')"
   ]
  },
  {
   "cell_type": "code",
   "execution_count": 15,
   "metadata": {},
   "outputs": [
    {
     "name": "stdout",
     "output_type": "stream",
     "text": [
      "({'0': 2030, '1': 1970}, {'0': 1613, '1': 2387}, {'0': 2473, '1': 1527})\n",
      "[[0.618+0.j    0.007+0.097j]\n",
      " [0.007-0.097j 0.382+0.j   ]]\n",
      "State fidelity from combined counts: 0.424930967581284\n",
      "\n",
      "({'0': 2057, '1': 1943}, {'0': 2100, '1': 1900}, {'0': 2160, '1': 1840})\n",
      "[[0.54 +0.j    0.014-0.025j]\n",
      " [0.014+0.025j 0.46 +0.j   ]]\n",
      "State fidelity from combined counts: 0.4734690240610905\n",
      "\n",
      "({'0': 2206, '1': 1794}, {'0': 2098, '1': 1902}, {'0': 1963, '1': 2037})\n",
      "[[0.491+0.j    0.051-0.025j]\n",
      " [0.051+0.025j 0.509+0.j   ]]\n",
      "State fidelity from combined counts: 0.5542909959923848\n",
      "\n"
     ]
    }
   ],
   "source": [
    "print_unmitigated_fidelities_combined(results[2:5], *states[0])\n",
    "print_unmitigated_fidelities_combined(results[5:8], *states[1])\n",
    "print_unmitigated_fidelities_combined(results[8:11], *states[2])"
   ]
  },
  {
   "cell_type": "code",
   "execution_count": 16,
   "metadata": {},
   "outputs": [],
   "source": [
    "# Gets the map from a physical qubit to a classical bit for the mitigation calibration matrices\n",
    "def get_qubit_to_clbit_mappings_for_mitigation(circuit: QuantumCircuit) -> dict[int, int]:\n",
    "    return dict(\n",
    "        ((instr[1][0]._index, instr[2][0]._index) for instr in circuit.data if instr[0].name == 'measure')\n",
    "    )\n",
    "\n",
    "# Gets the map from physical qubit to mitigation matrix\n",
    "def get_assignment_matrices(mappings: dict, counts_0: dict, counts_1: dict) -> dict[int, ndarray]:\n",
    "\n",
    "    output = {}\n",
    "\n",
    "    for physical_qubit, classical_bit in mappings.items():\n",
    "        \n",
    "        # Determine zero state for assignment matrix\n",
    "        result_0 = sum([count for bit_string, count in counts_0.items() if bit_string[classical_bit] == '0'])\n",
    "        result_1 = sum([count for bit_string, count in counts_0.items() if bit_string[classical_bit] == '1'])\n",
    "        \n",
    "        # Calculate zero ket\n",
    "        zero_ket = array([[result_0], \n",
    "                          [result_1]]) / (result_0 + result_1)\n",
    "        \n",
    "        # Determine one state for assignment matrix\n",
    "        result_0 = sum([count for bit_string, count in counts_1.items() if bit_string[classical_bit] == '0'])\n",
    "        result_1 = sum([count for bit_string, count in counts_1.items() if bit_string[classical_bit] == '1'])\n",
    "        \n",
    "        # Calculate zero ket\n",
    "        one_ket = array([[result_0], \n",
    "                         [result_1]]) / (result_0 + result_1)\n",
    "        \n",
    "        assignment_matrix = numpy.concatenate([zero_ket, one_ket], axis=1)\n",
    "\n",
    "        output[physical_qubit] = assignment_matrix\n",
    "    \n",
    "    return output\n",
    "\n",
    "# Get the list of physical qubits in the same order as the classical bits \n",
    "def get_qubits_in_clbit_order(circuit: QuantumCircuit) -> list[int]:\n",
    "    \n",
    "    cl_bit_to_qbit_map = dict((instr[2][0]._index, instr[1][0]._index) for instr in circuit.data if instr[0].name == 'measure')\n",
    "\n",
    "    return [*cl_bit_to_qbit_map.values()]\n",
    "    \n",
    "\n",
    "# Get the tensor of all mitigation matrices in the correct order for each circuit\n",
    "def get_mitigation_matrix(circuit: QuantumCircuit, assignment_mappings: dict) -> ndarray:\n",
    "    ordered_physical_qubits = get_qubits_in_clbit_order(circuit)\n",
    "\n",
    "    ordered_physical_qubits.reverse()\n",
    "\n",
    "    assignment_matrices = [assignment_mappings[qubit] for qubit in ordered_physical_qubits]\n",
    "\n",
    "    return tens(*(scipy.linalg.inv(mat) for mat in assignment_matrices))\n",
    "\n",
    "\n",
    "def get_bit_strings(count: int) -> list[str]:\n",
    "    return [''.join(bits) for bits in itertools.product(['0', '1'], repeat=count)]\n",
    "\n",
    "\n",
    "def get_corrected_counts(circuit: QuantumCircuit, counts_for_mitigation: dict, assignment_mappings: dict, num_qubits: int) -> dict[str, int]:\n",
    "    bit_strings = get_bit_strings(num_qubits)\n",
    "\n",
    "    counts_list = []\n",
    "    for bit_string in bit_strings:\n",
    "        counts_list.append(counts_for_mitigation[bit_string] if bit_string in counts_for_mitigation else 0)\n",
    "    \n",
    "    # Get vector of counts\n",
    "    counts_vector = numpy.concatenate(\n",
    "        array([[count for count in counts_list]]),\n",
    "        axis=0\n",
    "    )\n",
    "\n",
    "    mitigation_matrix = get_mitigation_matrix(circuit, assignment_mappings)\n",
    "    \n",
    "    # Multiply by mitigation matirx\n",
    "    corrected_vector = mitigation_matrix @ counts_vector\n",
    "    corrected_vector = corrected_vector.astype(int)\n",
    "    \n",
    "    output = {}\n",
    "    for idx, bit_string in zip(range(2**num_qubits), bit_strings):\n",
    "        output[bit_string] = int(corrected_vector[idx])\n",
    "    \n",
    "    return output"
   ]
  },
  {
   "cell_type": "code",
   "execution_count": 17,
   "metadata": {},
   "outputs": [],
   "source": [
    "# Get list of qubit to clbit mappings for the mitigation circuits.\n",
    "mitigation_mappings = get_qubit_to_clbit_mappings_for_mitigation(circuits_to_send[0])\n",
    "\n",
    "# Calculate assignment matrices for each qubit. \n",
    "assignment_matrices = get_assignment_matrices(mitigation_mappings, results[0], results[1])"
   ]
  },
  {
   "cell_type": "code",
   "execution_count": 18,
   "metadata": {},
   "outputs": [],
   "source": [
    "def print_mitigated_fidelities_combined(circuits, counts, assignment_matrices, num_qubits, theta, phi):\n",
    "\n",
    "    mitigated_counts = []\n",
    "\n",
    "    for circuit, count in zip(circuits, counts):\n",
    "        mitigated_counts.append(get_corrected_counts(circuit, count, assignment_matrices, num_qubits))\n",
    "\n",
    "    qubit = density_op_from_counts_dict(*get_xyz_counts_for_circuit(mitigated_counts))\n",
    "    \n",
    "    print(get_xyz_counts_for_circuit(mitigated_counts))\n",
    "    print(qubit)\n",
    "\n",
    "    psi = gen_qubit(theta, phi)\n",
    "\n",
    "    fidelity_q = state_fidelity(qubit, psi)\n",
    "\n",
    "    print(f'Mitigated state fidelity from combined counts: {fidelity_q}\\n')"
   ]
  },
  {
   "cell_type": "code",
   "execution_count": 19,
   "metadata": {},
   "outputs": [
    {
     "name": "stdout",
     "output_type": "stream",
     "text": [
      "({'0': 2029, '1': 1968}, {'0': 1613, '1': 2384}, {'0': 2344, '1': 1482})\n",
      "[[0.613+0.j    0.008+0.096j]\n",
      " [0.008-0.096j 0.387+0.j   ]]\n",
      "Mitigated state fidelity from combined counts: 0.42655503623135715\n",
      "\n",
      "({'0': 2056, '1': 1942}, {'0': 2098, '1': 1898}, {'0': 2079, '1': 1781})\n",
      "[[0.539+0.j    0.014-0.025j]\n",
      " [0.014+0.025j 0.461+0.j   ]]\n",
      "Mitigated state fidelity from combined counts: 0.4747758615631601\n",
      "\n",
      "({'0': 2201, '1': 1794}, {'0': 2098, '1': 1902}, {'0': 1921, '1': 1994})\n",
      "[[0.491+0.j    0.051-0.025j]\n",
      " [0.051+0.025j 0.509+0.j   ]]\n",
      "Mitigated state fidelity from combined counts: 0.5537936620393951\n",
      "\n"
     ]
    }
   ],
   "source": [
    "print_mitigated_fidelities_combined(circuits_to_send[2:5], results[2:5], assignment_matrices, 15, *states[0])\n",
    "print_mitigated_fidelities_combined(circuits_to_send[5:8], results[5:8], assignment_matrices, 15, *states[1])\n",
    "print_mitigated_fidelities_combined(circuits_to_send[8:11], results[8:11], assignment_matrices, 15, *states[2])"
   ]
  },
  {
   "cell_type": "code",
   "execution_count": null,
   "metadata": {},
   "outputs": [],
   "source": []
  }
 ],
 "metadata": {
  "kernelspec": {
   "display_name": "Python 3",
   "language": "python",
   "name": "python3"
  },
  "language_info": {
   "codemirror_mode": {
    "name": "ipython",
    "version": 3
   },
   "file_extension": ".py",
   "mimetype": "text/x-python",
   "name": "python",
   "nbconvert_exporter": "python",
   "pygments_lexer": "ipython3",
   "version": "3.11.1"
  }
 },
 "nbformat": 4,
 "nbformat_minor": 2
}
