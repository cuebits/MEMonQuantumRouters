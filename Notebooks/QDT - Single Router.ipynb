{
 "cells": [
  {
   "cell_type": "code",
   "execution_count": 1,
   "metadata": {},
   "outputs": [],
   "source": [
    "import sys\n",
    "sys.path.append('..') # Search for custom module in the top level. \n",
    "\n",
    "# Import my custom modules.\n",
    "from allens_quantum_package.functions import * \n",
    "from allens_quantum_package.operators import *\n",
    "\n",
    "from qiskit import *\n",
    "from qiskit.quantum_info import state_fidelity\n",
    "from qiskit_aer import AerSimulator\n",
    "from qiskit_aer.noise import NoiseModel\n",
    "from qiskit_experiments.framework import ExperimentData\n",
    "from qiskit_experiments.library.tomography import MitigatedTomographyAnalysis, MitigatedStateTomography, TomographyAnalysis\n",
    "from qiskit_experiments.library.tomography.basis import PauliMeasurementBasis\n",
    "from qiskit_experiments.library.characterization.analysis import LocalReadoutErrorAnalysis\n",
    "from qiskit_ibm_runtime import QiskitRuntimeService\n",
    "\n",
    "import scipy\n",
    "from numpy import set_printoptions, radians, ndarray, pi, degrees, radians\n",
    "from random import randint\n",
    "from collections import namedtuple\n",
    "\n",
    "import itertools\n",
    "from itertools import product"
   ]
  },
  {
   "cell_type": "code",
   "execution_count": 6,
   "metadata": {},
   "outputs": [
    {
     "data": {
      "image/png": "[encoded data removed]",
      "text/plain": [
       "<Figure size 329.554x200.667 with 1 Axes>"
      ]
     },
     "execution_count": 6,
     "metadata": {},
     "output_type": "execute_result"
    }
   ],
   "source": [
    "qc = QuantumCircuit(1)\n",
    "qc.measure_all()\n",
    "qc.draw('mpl')"
   ]
  },
  {
   "cell_type": "code",
   "execution_count": 76,
   "metadata": {},
   "outputs": [],
   "source": [
    "# Set the floating point diplay precision to 2 decimal places, sufficient for our purposes.\n",
    "set_printoptions(precision=3)\n",
    "\n",
    "# Initialise the Qiskit runtime service. \n",
    "service = QiskitRuntimeService()"
   ]
  },
  {
   "cell_type": "code",
   "execution_count": 77,
   "metadata": {},
   "outputs": [],
   "source": [
    "states = [\n",
    "    (radians(-88), radians(79)),\n",
    "    (radians(32), radians(-167)),\n",
    "    (radians(140), radians(125)),\n",
    "    \n",
    "    (radians(-76), radians(-88)),\n",
    "    (radians(93), radians(-135)),\n",
    "    (radians(104), radians(-96)),\n",
    "\n",
    "    (radians(-104), radians(-146)),\n",
    "    (radians(-158), radians(-108)),\n",
    "    (radians(-110), radians(-172))\n",
    "]"
   ]
  },
  {
   "cell_type": "code",
   "execution_count": 78,
   "metadata": {},
   "outputs": [],
   "source": [
    "def build_circuit(theta, phi) -> QuantumCircuit:\n",
    "    circ = QuantumCircuit(3)\n",
    "\n",
    "    circ.h(0)\n",
    "    circ.u(theta, phi, 0, 1)\n",
    "    circ.cswap(0, 1, 2)\n",
    "\n",
    "    return circ"
   ]
  },
  {
   "cell_type": "code",
   "execution_count": 79,
   "metadata": {},
   "outputs": [],
   "source": [
    "def build_tomography_set(circuit: QuantumCircuit) -> QuantumCircuit:\n",
    "    circuit_x = circuit.copy()\n",
    "    circuit_x.h([1, 2])\n",
    "    circuit_x.measure_all()\n",
    "\n",
    "    circuit_y = circuit.copy()\n",
    "    circuit_y.sdg([1, 2])\n",
    "    circuit_y.h([1, 2])\n",
    "    circuit_y.measure_all()\n",
    "\n",
    "    circuit_z = circuit.copy()\n",
    "    circuit_z.measure_all()\n",
    "\n",
    "    return [circuit_x, circuit_y, circuit_z]\n"
   ]
  },
  {
   "cell_type": "code",
   "execution_count": 80,
   "metadata": {},
   "outputs": [
    {
     "data": {
      "image/png": "[encoded data removed]",
      "text/plain": [
       "<Figure size 831.22x367.889 with 1 Axes>"
      ]
     },
     "execution_count": 80,
     "metadata": {},
     "output_type": "execute_result"
    }
   ],
   "source": [
    "build_tomography_set(build_circuit(*states[0]))[0].draw('mpl')"
   ]
  },
  {
   "cell_type": "code",
   "execution_count": 81,
   "metadata": {},
   "outputs": [],
   "source": [
    "ibm_brisbane = service.get_backend('ibm_brisbane')"
   ]
  },
  {
   "cell_type": "code",
   "execution_count": 82,
   "metadata": {},
   "outputs": [],
   "source": [
    "circuits_to_send = list(itertools.chain.from_iterable([\n",
    "        circuit for circuit in [\n",
    "            build_tomography_set(build_circuit(theta, phi)) for theta, phi in states\n",
    "        ]\n",
    "    ]\n",
    "))\n",
    "\n",
    "circuits_to_send = [transpile(circuit, ibm_brisbane) for circuit in circuits_to_send]"
   ]
  },
  {
   "cell_type": "code",
   "execution_count": 83,
   "metadata": {},
   "outputs": [],
   "source": [
    "def get_all_physical_qubits(circuit_list: list[QuantumCircuit]) -> set[int]:\n",
    "    all_indices = set()\n",
    "    for circ in circuit_list:    \n",
    "        measurement_indices = [instr[1][0]._index for instr in circ.data if instr[0].name == 'measure']\n",
    "        all_indices = all_indices.union(measurement_indices)\n",
    "    return all_indices\n",
    "\n",
    "def get_mitigation_circuits(circuit_list: list[QuantumCircuit]) -> list[QuantumCircuit]:\n",
    "\n",
    "    physical_qubits = get_all_physical_qubits(circuit_list)\n",
    "    num_qubits = len(physical_qubits)\n",
    "\n",
    "    # QDT X circuits\n",
    "    qdt_x_0 = QuantumCircuit(127, num_qubits)\n",
    "    qdt_x_0.h(physical_qubits)\n",
    "    qdt_x_0.h(physical_qubits)\n",
    "    qdt_x_0.measure(physical_qubits, range(num_qubits))\n",
    "    \n",
    "    qdt_x_1 = QuantumCircuit(127, num_qubits)\n",
    "    qdt_x_1.h(physical_qubits)\n",
    "    qdt_x_1.z(physical_qubits)\n",
    "    qdt_x_1.h(physical_qubits)\n",
    "    qdt_x_1.measure(physical_qubits, range(num_qubits))\n",
    "\n",
    "    # QDT Y circuits\n",
    "    qdt_y_0 = QuantumCircuit(127, num_qubits)\n",
    "    qdt_y_0.h(physical_qubits)\n",
    "    qdt_y_0.s(physical_qubits)\n",
    "    qdt_y_0.sdg(physical_qubits)\n",
    "    qdt_y_0.h(physical_qubits)\n",
    "    qdt_y_0.measure(physical_qubits, range(num_qubits))\n",
    "    \n",
    "    qdt_y_1 = QuantumCircuit(127, num_qubits)\n",
    "    qdt_y_1.h(physical_qubits)\n",
    "    qdt_y_1.sdg(physical_qubits)\n",
    "    qdt_y_1.sdg(physical_qubits)\n",
    "    qdt_y_1.h(physical_qubits)\n",
    "    qdt_y_1.measure(physical_qubits, range(num_qubits))\n",
    "\n",
    "    # QDT Z circuits\n",
    "    qdt_z_0 = QuantumCircuit(127, num_qubits)\n",
    "    qdt_z_0.measure(physical_qubits, range(num_qubits))\n",
    "\n",
    "    qdt_z_1 = QuantumCircuit(127, num_qubits)\n",
    "    qdt_z_1.x(physical_qubits)\n",
    "    qdt_z_1.measure(physical_qubits, range(num_qubits))\n",
    "\n",
    "    return [qdt_x_0, qdt_x_1, qdt_y_0, qdt_y_1, qdt_z_0, qdt_z_1]"
   ]
  },
  {
   "cell_type": "code",
   "execution_count": 84,
   "metadata": {},
   "outputs": [],
   "source": [
    "qdt_circuits = get_mitigation_circuits(circuits_to_send)\n",
    "qdt_circuits = transpile(qdt_circuits, ibm_brisbane, optimization_level=0)\n",
    "circuits_to_send = qdt_circuits + circuits_to_send"
   ]
  },
  {
   "cell_type": "code",
   "execution_count": 85,
   "metadata": {},
   "outputs": [],
   "source": [
    "hardware_job = ibm_brisbane.run(circuits=circuits_to_send)"
   ]
  },
  {
   "cell_type": "code",
   "execution_count": 86,
   "metadata": {},
   "outputs": [
    {
     "name": "stdout",
     "output_type": "stream",
     "text": [
      "Hardware job ID: cwqnrxbtdtng0086tzgg\n"
     ]
    }
   ],
   "source": [
    "print(f\"Hardware job ID: {hardware_job.job_id()}\")"
   ]
  },
  {
   "cell_type": "markdown",
   "metadata": {},
   "source": [
    "---"
   ]
  },
  {
   "cell_type": "code",
   "execution_count": 87,
   "metadata": {},
   "outputs": [],
   "source": [
    "results = hardware_job.result().get_counts()"
   ]
  },
  {
   "cell_type": "code",
   "execution_count": 88,
   "metadata": {},
   "outputs": [],
   "source": [
    "qdt_x_counts = results[0:2]\n",
    "qdt_y_counts = results[2:4]\n",
    "qdt_z_counts = results[4:6]\n",
    "\n",
    "state_1_counts = results[6:9]\n",
    "state_2_counts = results[9:12]\n",
    "state_3_counts = results[12:15]\n",
    "state_4_counts = results[15:18]\n",
    "state_5_counts = results[18:21]\n",
    "state_6_counts = results[21:24]\n",
    "state_7_counts = results[24:27]\n",
    "state_8_counts = results[27:30]\n",
    "state_9_counts = results[30:33]"
   ]
  },
  {
   "cell_type": "code",
   "execution_count": 89,
   "metadata": {},
   "outputs": [],
   "source": [
    "# Filter the correct counts. If q0 is 0, only count q1, if q0 is 1, only count q1.\n",
    "def process_counts(counts_x: dict, counts_y: dict, counts_z: dict) -> tuple[dict]:\n",
    "    output_x = {'0': 0, '1': 0}\n",
    "    output_y = {'0': 0, '1': 0}\n",
    "    output_z = {'0': 0, '1': 0}\n",
    "\n",
    "    for input_dict, output_dict in zip((counts_x, counts_y, counts_z), (output_x, output_y, output_z)):\n",
    "        for bit_string, counts in input_dict.items():\n",
    "            if bit_string[2] == '0':\n",
    "                output_dict[bit_string[1]] += counts\n",
    "            else:\n",
    "                output_dict[bit_string[0]] += counts\n",
    "    \n",
    "    return output_x, output_y, output_z\n",
    "\n",
    "def print_fidelities(theta, phi, counts_x, counts_y, counts_z):\n",
    "    den_op = density_op_from_counts_dict(*process_counts(counts_x, counts_y, counts_z))\n",
    "    fidelity = state_fidelity(den_op, gen_qubit(theta, phi))\n",
    "    print(f'State fidelity for\\ttheta {int(degrees(theta))}°\\t phi {int(degrees(phi))}°\\t:\\t{fidelity}')\n"
   ]
  },
  {
   "cell_type": "code",
   "execution_count": 90,
   "metadata": {},
   "outputs": [
    {
     "name": "stdout",
     "output_type": "stream",
     "text": [
      "Unmitigated Fidelities\n",
      "----------------------\n",
      "\n",
      "State fidelity for\ttheta -88°\t phi 79°\t:\t0.8934040527930817\n",
      "State fidelity for\ttheta 32°\t phi -167°\t:\t0.939382457116758\n",
      "State fidelity for\ttheta 140°\t phi 125°\t:\t0.9186941128221624\n",
      "State fidelity for\ttheta -76°\t phi -88°\t:\t0.8933757148787334\n",
      "State fidelity for\ttheta 93°\t phi -135°\t:\t0.8988121935517779\n",
      "State fidelity for\ttheta 104°\t phi -96°\t:\t0.8964492030351858\n",
      "State fidelity for\ttheta -104°\t phi -146°\t:\t0.9009786816140842\n",
      "State fidelity for\ttheta -158°\t phi -108°\t:\t0.9300944591331705\n",
      "State fidelity for\ttheta -110°\t phi -172°\t:\t0.8964376540040347\n"
     ]
    }
   ],
   "source": [
    "print(\"Unmitigated Fidelities\\n----------------------\\n\")\n",
    "\n",
    "for state, result_idx in zip(states, range(6, 33, 3)):\n",
    "    print_fidelities(state[0], state[1], results[result_idx], results[result_idx + 1], results[result_idx + 2])"
   ]
  },
  {
   "cell_type": "code",
   "execution_count": 91,
   "metadata": {},
   "outputs": [],
   "source": [
    "def get_mitigation_matrix(num_qubits: int, zero_counts: dict[str, int], one_counts: dict[str, int]) -> ndarray:\n",
    "\n",
    "    assignment_matrices = []\n",
    "    \n",
    "    for qubit_idx in range(num_qubits):\n",
    "\n",
    "        # Determine zero state for assignment matrix\n",
    "        zero_count = sum([count for result, count in zero_counts.items() if result[qubit_idx] == '0'])\n",
    "        one_count = sum([count for result, count in zero_counts.items() if result[qubit_idx] == '1'])\n",
    "\n",
    "        # Calculate zero ket\n",
    "        zero_ket = array([[zero_count], \n",
    "                          [one_count]]) / (zero_count + one_count)\n",
    "        \n",
    "        # Determine one state for assignment matrix\n",
    "        zero_count = sum([count for result, count in one_counts.items() if result[qubit_idx] == '0'])\n",
    "        one_count = sum([count for result, count in one_counts.items() if result[qubit_idx] == '1'])\n",
    "\n",
    "        # Calculate one ket\n",
    "        one_ket = array([[zero_count], \n",
    "                         [one_count]]) / (zero_count + one_count)\n",
    "        \n",
    "        assignment_matrix = numpy.concatenate([zero_ket, one_ket], axis=1)\n",
    "\n",
    "        assignment_matrices.append(assignment_matrix)\n",
    "\n",
    "    return tens(*(scipy.linalg.inv(mat) for mat in assignment_matrices))\n",
    "\n",
    "\n",
    "def get_bit_strings(count: int) -> list[str]:\n",
    "    return [''.join(bits) for bits in itertools.product(['0', '1'], repeat=count)]\n",
    "\n",
    "\n",
    "def mitigate_counts(num_qubits: int, mitigation_matrix: ndarray, counts: dict[str, int]) -> dict[str, int]:\n",
    "    \n",
    "    bit_strings = get_bit_strings(num_qubits)\n",
    "\n",
    "    # Get vector of counts\n",
    "    counts_vector = numpy.concatenate(\n",
    "        [array([[counts[bit_string] if bit_string in counts else 0.0]]) for bit_string in bit_strings],\n",
    "        axis=0\n",
    "    )\n",
    "\n",
    "    # Multiply by mitigation matirx\n",
    "    corrected_vector = mitigation_matrix @ counts_vector\n",
    "    corrected_vector = corrected_vector.astype(int)\n",
    "\n",
    "    output = {}\n",
    "    for idx, bit_string in zip(range(2**num_qubits), bit_strings):\n",
    "        output[bit_string] = int(corrected_vector[idx])\n",
    "\n",
    "    return output\n",
    "\n",
    "\n",
    "def print_mitigated_fidelities(theta, phi, counts_x, counts_y, counts_z, qdt_x, qdt_y, qdt_z):\n",
    "\n",
    "    x_mitigation_matrix = get_mitigation_matrix(3, qdt_x[0], qdt_x[1])\n",
    "    y_mitigation_matrix = get_mitigation_matrix(3, qdt_y[0], qdt_y[1])\n",
    "    z_mitigation_matrix = get_mitigation_matrix(3, qdt_z[0], qdt_z[1])\n",
    "\n",
    "    x_counts_mitigated = mitigate_counts(3, x_mitigation_matrix, counts_x)\n",
    "    y_counts_mitigated = mitigate_counts(3, y_mitigation_matrix, counts_y)\n",
    "    z_counts_mitigated = mitigate_counts(3, z_mitigation_matrix, counts_z)\n",
    "\n",
    "    x_counts_mitigated, y_counts_mitigated, z_counts_mitigated = process_counts(x_counts_mitigated, y_counts_mitigated, z_counts_mitigated)\n",
    "\n",
    "    den_op = density_op_from_counts_dict(x_counts_mitigated, y_counts_mitigated, z_counts_mitigated)\n",
    "\n",
    "    fidelity = state_fidelity(den_op, gen_qubit(theta, phi))\n",
    "\n",
    "    print(f'State fidelity for\\ttheta {int(degrees(theta))}°\\t phi {int(degrees(phi))}°\\t:\\t{fidelity}')"
   ]
  },
  {
   "cell_type": "code",
   "execution_count": 93,
   "metadata": {},
   "outputs": [
    {
     "name": "stdout",
     "output_type": "stream",
     "text": [
      "Mitigated Fidelities\n",
      "----------------------\n",
      "\n",
      "State fidelity for\ttheta -88°\t phi 79°\t:\t0.9054456009332271\n",
      "State fidelity for\ttheta 32°\t phi -167°\t:\t0.9540175912219354\n",
      "State fidelity for\ttheta 140°\t phi 125°\t:\t0.9398027166047414\n",
      "State fidelity for\ttheta -76°\t phi -88°\t:\t0.914461760814256\n",
      "State fidelity for\ttheta 93°\t phi -135°\t:\t0.9097852145561403\n",
      "State fidelity for\ttheta 104°\t phi -96°\t:\t0.9095287178246562\n",
      "State fidelity for\ttheta -104°\t phi -146°\t:\t0.9261531842710972\n",
      "State fidelity for\ttheta -158°\t phi -108°\t:\t0.9539266356412509\n",
      "State fidelity for\ttheta -110°\t phi -172°\t:\t0.9207103276089463\n"
     ]
    }
   ],
   "source": [
    "print(\"Mitigated Fidelities\\n----------------------\\n\")\n",
    "\n",
    "for state, result_idx in zip(states, range(6, 33, 3)):\n",
    "    print_mitigated_fidelities(state[0], state[1], results[result_idx], results[result_idx + 1], results[result_idx + 2], qdt_z_counts, qdt_z_counts, qdt_z_counts)"
   ]
  },
  {
   "cell_type": "code",
   "execution_count": null,
   "metadata": {},
   "outputs": [],
   "source": []
  }
 ],
 "metadata": {
  "kernelspec": {
   "display_name": "Python 3",
   "language": "python",
   "name": "python3"
  },
  "language_info": {
   "codemirror_mode": {
    "name": "ipython",
    "version": 3
   },
   "file_extension": ".py",
   "mimetype": "text/x-python",
   "name": "python",
   "nbconvert_exporter": "python",
   "pygments_lexer": "ipython3",
   "version": "3.11.1"
  }
 },
 "nbformat": 4,
 "nbformat_minor": 2
}
