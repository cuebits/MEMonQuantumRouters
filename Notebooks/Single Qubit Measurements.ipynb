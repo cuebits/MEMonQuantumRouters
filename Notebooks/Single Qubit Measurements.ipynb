{
 "cells": [
  {
   "cell_type": "code",
   "execution_count": 1,
   "metadata": {},
   "outputs": [],
   "source": [
    "import sys\n",
    "sys.path.append('..') # Search for custom module in the top level. \n",
    "\n",
    "# Import my custom modules.\n",
    "from allens_quantum_package.functions import * \n",
    "from allens_quantum_package.operators import *\n",
    "\n",
    "from qiskit import *\n",
    "from qiskit.quantum_info import state_fidelity\n",
    "from qiskit_aer import AerSimulator\n",
    "from qiskit_aer.noise import NoiseModel\n",
    "from qiskit_experiments.framework import ExperimentData\n",
    "from qiskit_experiments.library.tomography import MitigatedTomographyAnalysis, MitigatedStateTomography, TomographyAnalysis\n",
    "from qiskit_experiments.library.tomography.basis import PauliMeasurementBasis\n",
    "from qiskit_experiments.library.characterization.analysis import LocalReadoutErrorAnalysis\n",
    "from qiskit_ibm_runtime import QiskitRuntimeService\n",
    "\n",
    "from numpy import set_printoptions, radians, ndarray\n",
    "import scipy"
   ]
  },
  {
   "cell_type": "code",
   "execution_count": 2,
   "metadata": {},
   "outputs": [],
   "source": [
    "# Set the floating point diplay precision to 2 decimal places, sufficient for our purposes.\n",
    "set_printoptions(precision=2)\n",
    "\n",
    "# Initialise the Qiskit runtime service. \n",
    "service = QiskitRuntimeService()"
   ]
  },
  {
   "cell_type": "code",
   "execution_count": 3,
   "metadata": {},
   "outputs": [],
   "source": [
    "states = [\n",
    "    (radians(-88), radians(79)),\n",
    "    (radians(32), radians(-167)),\n",
    "    (radians(140), radians(125)),\n",
    "    \n",
    "    (radians(-76), radians(-88)),\n",
    "    (radians(93), radians(-135)),\n",
    "    (radians(104), radians(-96)),\n",
    "\n",
    "    (radians(-104), radians(-146)),\n",
    "    (radians(-158), radians(-108)),\n",
    "    (radians(-110), radians(-172))\n",
    "]"
   ]
  },
  {
   "cell_type": "code",
   "execution_count": 5,
   "metadata": {},
   "outputs": [],
   "source": [
    "def build_circuit(theta, phi) -> QuantumCircuit:\n",
    "    circ = QuantumCircuit(1)\n",
    "    circ.u(theta, phi, 0, 0)\n",
    "    return circ"
   ]
  },
  {
   "cell_type": "code",
   "execution_count": 17,
   "metadata": {},
   "outputs": [],
   "source": [
    "ibm_brisbane = service.get_backend('ibm_brisbane')"
   ]
  },
  {
   "cell_type": "code",
   "execution_count": 55,
   "metadata": {},
   "outputs": [],
   "source": [
    "circuits_to_send = list(itertools.chain.from_iterable([\n",
    "        circuit for circuit in [\n",
    "            get_tomography_circuits(build_circuit(theta, phi), 0) for theta, phi in states\n",
    "        ]\n",
    "    ]\n",
    "))"
   ]
  },
  {
   "cell_type": "code",
   "execution_count": 56,
   "metadata": {},
   "outputs": [],
   "source": [
    "circuits_to_send = [transpile(circuit, ibm_brisbane) for circuit in circuits_to_send]"
   ]
  },
  {
   "cell_type": "code",
   "execution_count": 57,
   "metadata": {},
   "outputs": [],
   "source": [
    "mem_circ_0 = QuantumCircuit(1)\n",
    "mem_circ_0.measure_all()\n",
    "\n",
    "mem_circ_1 = QuantumCircuit(1)\n",
    "mem_circ_1.x(0)\n",
    "mem_circ_1.measure_all()\n",
    "\n",
    "circuits_to_send = [mem_circ_0, mem_circ_1] + circuits_to_send"
   ]
  },
  {
   "cell_type": "code",
   "execution_count": 58,
   "metadata": {},
   "outputs": [],
   "source": [
    "hardware_job = ibm_brisbane.run(circuits=circuits_to_send)"
   ]
  },
  {
   "cell_type": "code",
   "execution_count": 64,
   "metadata": {},
   "outputs": [
    {
     "name": "stdout",
     "output_type": "stream",
     "text": [
      "Hardware job ID: cvc1sr7z17rg008d0ab0\n"
     ]
    }
   ],
   "source": [
    "print(f\"Hardware job ID: {hardware_job.job_id()}\")"
   ]
  },
  {
   "cell_type": "markdown",
   "metadata": {},
   "source": [
    "---"
   ]
  },
  {
   "cell_type": "code",
   "execution_count": 4,
   "metadata": {},
   "outputs": [],
   "source": [
    "hardware_job = service.job('cvc1sr7z17rg008d0ab0')\n",
    "result_counts = hardware_job.result().get_counts()"
   ]
  },
  {
   "cell_type": "code",
   "execution_count": 5,
   "metadata": {},
   "outputs": [],
   "source": [
    "def get_mitigation_matrix(num_qubits: int, zero_counts: dict[str, int], one_counts: dict[str, int]) -> ndarray:\n",
    "\n",
    "    assignment_matrices = []\n",
    "    \n",
    "    for qubit_idx in range(num_qubits):\n",
    "\n",
    "        # Determine zero state for assignment matrix\n",
    "        zero_count = sum([count for result, count in zero_counts.items() if result[qubit_idx] == '0'])\n",
    "        one_count = sum([count for result, count in zero_counts.items() if result[qubit_idx] == '1'])\n",
    "\n",
    "        # Calculate zero ket\n",
    "        zero_ket = array([[zero_count], \n",
    "                          [one_count]]) / (zero_count + one_count)\n",
    "        \n",
    "        # Determine one state for assignment matrix\n",
    "        zero_count = sum([count for result, count in one_counts.items() if result[qubit_idx] == '0'])\n",
    "        one_count = sum([count for result, count in one_counts.items() if result[qubit_idx] == '1'])\n",
    "\n",
    "        # Calculate zero ket\n",
    "        one_ket = array([[zero_count], \n",
    "                         [one_count]]) / (zero_count + one_count)\n",
    "        \n",
    "        assignment_matrix = numpy.concatenate([zero_ket, one_ket], axis=1)\n",
    "\n",
    "        assignment_matrices.append(assignment_matrix)\n",
    "\n",
    "    return tens(*(scipy.linalg.inv(mat) for mat in assignment_matrices))\n",
    "\n",
    "\n",
    "def get_bit_strings(count: int) -> list[str]:\n",
    "    return [''.join(bits) for bits in itertools.product(['0', '1'], repeat=count)]\n",
    "\n",
    "\n",
    "def mitigate_counts(num_qubits: int, mitigation_matrix: ndarray, counts: dict[str, int]) -> dict[str, int]:\n",
    "    \n",
    "    bit_strings = get_bit_strings(num_qubits)\n",
    "\n",
    "    # Get vector of counts\n",
    "    counts_vector = numpy.concatenate(\n",
    "        [array([[counts[bit_string]] if bit_string in counts else 0.0]) for bit_string in bit_strings],\n",
    "        axis=0\n",
    "    )\n",
    "\n",
    "    # Multiply by mitigation matirx\n",
    "    corrected_vector = mitigation_matrix @ counts_vector\n",
    "    corrected_vector = corrected_vector.astype(int)\n",
    "\n",
    "    output = {}\n",
    "    for idx, bit_string in zip(range(2**num_qubits), bit_strings):\n",
    "        output[bit_string] = int(corrected_vector[idx])\n",
    "\n",
    "    return output"
   ]
  },
  {
   "cell_type": "code",
   "execution_count": 6,
   "metadata": {},
   "outputs": [],
   "source": [
    "def print_fidelities(x_counts, y_counts, z_counts, theta, phi):\n",
    "\n",
    "    den_op = density_op_from_counts_dict(x_counts, y_counts, z_counts)\n",
    "\n",
    "    fidelity = state_fidelity(den_op, gen_qubit(theta, phi))\n",
    "\n",
    "    print(f'State fidelity for \\t theta {int(degrees(theta))}°\\t phi {int(degrees(phi))}°\\t:\\t{fidelity}')\n"
   ]
  },
  {
   "cell_type": "code",
   "execution_count": 10,
   "metadata": {},
   "outputs": [
    {
     "name": "stdout",
     "output_type": "stream",
     "text": [
      "Unmitigated Fidelities\n",
      "----------------------\n",
      "\n",
      "State fidelity for \t theta -88°\t phi 79°\t:\t0.9841387312752766\n",
      "State fidelity for \t theta 32°\t phi -167°\t:\t0.9669012303765895\n",
      "State fidelity for \t theta 140°\t phi 125°\t:\t0.9707545810945981\n",
      "State fidelity for \t theta -76°\t phi -88°\t:\t0.9519339301926772\n",
      "State fidelity for \t theta 93°\t phi -135°\t:\t0.9761141503445196\n",
      "State fidelity for \t theta 104°\t phi -96°\t:\t0.9794626674106945\n",
      "State fidelity for \t theta -104°\t phi -146°\t:\t0.9521836633361349\n",
      "State fidelity for \t theta -158°\t phi -108°\t:\t0.975622090156717\n",
      "State fidelity for \t theta -110°\t phi -172°\t:\t0.9603813885263243\n"
     ]
    }
   ],
   "source": [
    "print(\"Unmitigated Fidelities\\n----------------------\\n\")\n",
    "\n",
    "for count_idx, state_idx in zip(range(4, 30, 3), range(9)):\n",
    "    print_fidelities(result_counts[count_idx], result_counts[count_idx + 1], result_counts[count_idx + 2], states[state_idx][0], states[state_idx][1])"
   ]
  },
  {
   "cell_type": "code",
   "execution_count": 11,
   "metadata": {},
   "outputs": [],
   "source": [
    "def print_mitigated_fidelities(x_counts, y_counts, z_counts, theta, phi):\n",
    "\n",
    "    x_counts_mitigated = mitigate_counts(1, get_mitigation_matrix(1, result_counts[0], result_counts[1]), x_counts)\n",
    "    y_counts_mitigated = mitigate_counts(1, get_mitigation_matrix(1, result_counts[0], result_counts[1]), y_counts)\n",
    "    z_counts_mitigated = mitigate_counts(1, get_mitigation_matrix(1, result_counts[0], result_counts[1]), z_counts)\n",
    "\n",
    "    den_op = density_op_from_counts_dict(x_counts_mitigated, y_counts_mitigated, z_counts_mitigated)\n",
    "\n",
    "    fidelity = state_fidelity(den_op, gen_qubit(theta, phi))\n",
    "\n",
    "    print(f'State fidelity for \\t theta {int(degrees(theta))}°\\t phi {int(degrees(phi))}°\\t:\\t{fidelity}')"
   ]
  },
  {
   "cell_type": "code",
   "execution_count": 12,
   "metadata": {},
   "outputs": [],
   "source": [
    "def bloch_oordinate(counts_dict: dict) -> float:\n",
    "    plus = counts_dict['0'] if '0' in counts_dict else 0\n",
    "    minus = counts_dict['1'] if '1' in counts_dict else 0\n",
    "    return (plus - minus) / (plus + minus)"
   ]
  },
  {
   "cell_type": "code",
   "execution_count": 13,
   "metadata": {},
   "outputs": [
    {
     "name": "stdout",
     "output_type": "stream",
     "text": [
      "Mitigated Fidelities\n",
      "----------------------\n",
      "\n",
      "State fidelity for \t theta -88°\t phi 79°\t:\t0.9991941903399294\n",
      "State fidelity for \t theta 32°\t phi -167°\t:\t0.9999177023150138\n",
      "State fidelity for \t theta 140°\t phi 125°\t:\t0.9933677814360153\n",
      "State fidelity for \t theta -76°\t phi -88°\t:\t0.999967913774716\n",
      "State fidelity for \t theta 93°\t phi -135°\t:\t0.9851925126955755\n",
      "State fidelity for \t theta 104°\t phi -96°\t:\t0.9914074810979137\n",
      "State fidelity for \t theta -104°\t phi -146°\t:\t0.9998028377822136\n",
      "State fidelity for \t theta -158°\t phi -108°\t:\t0.9994925320570449\n",
      "State fidelity for \t theta -110°\t phi -172°\t:\t0.9998962651525923\n"
     ]
    }
   ],
   "source": [
    "print(\"Mitigated Fidelities\\n----------------------\\n\")\n",
    "\n",
    "for count_idx, state_idx in zip(range(4, 31, 3), range(9)):\n",
    "    print_mitigated_fidelities(result_counts[count_idx], result_counts[count_idx + 1], result_counts[count_idx + 2], states[state_idx][0], states[state_idx][1])"
   ]
  },
  {
   "cell_type": "code",
   "execution_count": null,
   "metadata": {},
   "outputs": [],
   "source": []
  }
 ],
 "metadata": {
  "kernelspec": {
   "display_name": "Python 3",
   "language": "python",
   "name": "python3"
  },
  "language_info": {
   "codemirror_mode": {
    "name": "ipython",
    "version": 3
   },
   "file_extension": ".py",
   "mimetype": "text/x-python",
   "name": "python",
   "nbconvert_exporter": "python",
   "pygments_lexer": "ipython3",
   "version": "3.11.1"
  }
 },
 "nbformat": 4,
 "nbformat_minor": 2
}
