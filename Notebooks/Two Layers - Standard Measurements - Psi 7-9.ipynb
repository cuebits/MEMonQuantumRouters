{
 "cells": [
  {
   "cell_type": "markdown",
   "metadata": {},
   "source": [
    "# Two Layer Router - Standard Measurements"
   ]
  },
  {
   "cell_type": "code",
   "execution_count": 1,
   "metadata": {},
   "outputs": [],
   "source": [
    "import sys\n",
    "sys.path.append('..') # Search for custom module in the top level. \n",
    "\n",
    "# Import my custom modules.\n",
    "from allens_quantum_package.functions import * \n",
    "from allens_quantum_package.operators import *\n",
    "\n",
    "from qiskit import *\n",
    "from qiskit.quantum_info import state_fidelity\n",
    "from qiskit_ibm_runtime import QiskitRuntimeService\n",
    "\n",
    "import scipy\n",
    "import numpy\n",
    "from numpy import set_printoptions, radians, ndarray, radians, array, sqrt\n",
    "\n",
    "import itertools"
   ]
  },
  {
   "cell_type": "code",
   "execution_count": 2,
   "metadata": {},
   "outputs": [],
   "source": [
    "# Set the floating point diplay precision to 3 decimal places, sufficient for our purposes.\n",
    "set_printoptions(precision=3)\n",
    "\n",
    "# Initialise the Qiskit runtime service. \n",
    "service = QiskitRuntimeService()"
   ]
  },
  {
   "cell_type": "code",
   "execution_count": 3,
   "metadata": {},
   "outputs": [],
   "source": [
    "states = [\n",
    "    (radians(-104), radians(-146)),\n",
    "    (radians(-158), radians(-108)),\n",
    "    (radians(-110), radians(-172))\n",
    "]"
   ]
  },
  {
   "cell_type": "code",
   "execution_count": 8,
   "metadata": {},
   "outputs": [],
   "source": [
    "def build_circuit(theta, phi) -> QuantumCircuit:\n",
    "    circ = QuantumCircuit(7)\n",
    "    \n",
    "    # Route on first layer\n",
    "    circ.h(3)\n",
    "    circ.u(theta, phi, 0, 2)\n",
    "    circ.cswap(3, 2, 4)\n",
    "    \n",
    "    # Route on second layer, top\n",
    "    circ.h(0)\n",
    "    circ.cswap(0, 1, 2)\n",
    "    \n",
    "    # Route on second layer, bottom\n",
    "    circ.h(6)\n",
    "    circ.cswap(6, 4, 5)\n",
    "\n",
    "    return circ"
   ]
  },
  {
   "cell_type": "code",
   "execution_count": 9,
   "metadata": {},
   "outputs": [
    {
     "data": {
      "text/html": [
       "<pre style=\"word-wrap: normal;white-space: pre;background: #fff0;line-height: 1.1;font-family: &quot;Courier New&quot;,Courier,monospace\">              ┌───┐                \n",
       "q_0: ─────────┤ H ├──────────────■─\n",
       "              └───┘              │ \n",
       "q_1: ────────────────────────────X─\n",
       "     ┌──────────────────────┐    │ \n",
       "q_2: ┤ U(-1.8151,-2.5482,0) ├─X──X─\n",
       "     └────────┬───┬─────────┘ │    \n",
       "q_3: ─────────┤ H ├───────────■────\n",
       "              └───┘           │    \n",
       "q_4: ─────────────────────────X──X─\n",
       "                                 │ \n",
       "q_5: ────────────────────────────X─\n",
       "              ┌───┐              │ \n",
       "q_6: ─────────┤ H ├──────────────■─\n",
       "              └───┘                </pre>"
      ],
      "text/plain": [
       "              ┌───┐                \n",
       "q_0: ─────────┤ H ├──────────────■─\n",
       "              └───┘              │ \n",
       "q_1: ────────────────────────────X─\n",
       "     ┌──────────────────────┐    │ \n",
       "q_2: ┤ U(-1.8151,-2.5482,0) ├─X──X─\n",
       "     └────────┬───┬─────────┘ │    \n",
       "q_3: ─────────┤ H ├───────────■────\n",
       "              └───┘           │    \n",
       "q_4: ─────────────────────────X──X─\n",
       "                                 │ \n",
       "q_5: ────────────────────────────X─\n",
       "              ┌───┐              │ \n",
       "q_6: ─────────┤ H ├──────────────■─\n",
       "              └───┘                "
      ]
     },
     "execution_count": 9,
     "metadata": {},
     "output_type": "execute_result"
    }
   ],
   "source": [
    "build_circuit(*states[0]).draw()"
   ]
  },
  {
   "cell_type": "code",
   "execution_count": 10,
   "metadata": {},
   "outputs": [],
   "source": [
    "def add_basis_meas(circuit, qubit, basis='z') -> QuantumCircuit:\n",
    "    circ = circuit.copy()\n",
    "    circ.barrier()\n",
    "\n",
    "    if basis == 'x':\n",
    "        circ.h(qubit)\n",
    "    elif basis == 'y':\n",
    "        circ.sdg(qubit)\n",
    "        circ.h(qubit)\n",
    "\n",
    "    circ.measure_all()\n",
    "\n",
    "    return circ\n",
    "\n",
    "\n",
    "# Create named tuple object, for easy indexing, e.g. \".x\", instead of \"[0]\"\n",
    "TomographySet = namedtuple('TomographySet', ['x', 'y', 'z'])\n",
    "\n",
    "\n",
    "def get_tomography_circuits(circuit, qubit) -> list[QuantumCircuit]:\n",
    "    return [\n",
    "        add_basis_meas(circuit, qubit, 'x'),\n",
    "        add_basis_meas(circuit, qubit, 'y'),\n",
    "        add_basis_meas(circuit, qubit, 'z')\n",
    "    ]"
   ]
  },
  {
   "cell_type": "code",
   "execution_count": 11,
   "metadata": {},
   "outputs": [
    {
     "data": {
      "text/html": [
       "<pre style=\"word-wrap: normal;white-space: pre;background: #fff0;line-height: 1.1;font-family: &quot;Courier New&quot;,Courier,monospace\">                 ┌───┐                 ░  ░ ┌─┐                  \n",
       "   q_0: ─────────┤ H ├──────────────■──░──░─┤M├──────────────────\n",
       "                 └───┘              │  ░  ░ └╥┘┌─┐               \n",
       "   q_1: ────────────────────────────X──░──░──╫─┤M├───────────────\n",
       "        ┌──────────────────────┐    │  ░  ░  ║ └╥┘┌─┐            \n",
       "   q_2: ┤ U(-1.8151,-2.5482,0) ├─X──X──░──░──╫──╫─┤M├────────────\n",
       "        └────────┬───┬─────────┘ │     ░  ░  ║  ║ └╥┘┌─┐         \n",
       "   q_3: ─────────┤ H ├───────────■─────░──░──╫──╫──╫─┤M├─────────\n",
       "                 └───┘           │     ░  ░  ║  ║  ║ └╥┘┌─┐      \n",
       "   q_4: ─────────────────────────X──X──░──░──╫──╫──╫──╫─┤M├──────\n",
       "                                    │  ░  ░  ║  ║  ║  ║ └╥┘┌─┐   \n",
       "   q_5: ────────────────────────────X──░──░──╫──╫──╫──╫──╫─┤M├───\n",
       "                 ┌───┐              │  ░  ░  ║  ║  ║  ║  ║ └╥┘┌─┐\n",
       "   q_6: ─────────┤ H ├──────────────■──░──░──╫──╫──╫──╫──╫──╫─┤M├\n",
       "                 └───┘                 ░  ░  ║  ║  ║  ║  ║  ║ └╥┘\n",
       "meas: 7/═════════════════════════════════════╩══╩══╩══╩══╩══╩══╩═\n",
       "                                             0  1  2  3  4  5  6 </pre>"
      ],
      "text/plain": [
       "                 ┌───┐                 ░  ░ ┌─┐                  \n",
       "   q_0: ─────────┤ H ├──────────────■──░──░─┤M├──────────────────\n",
       "                 └───┘              │  ░  ░ └╥┘┌─┐               \n",
       "   q_1: ────────────────────────────X──░──░──╫─┤M├───────────────\n",
       "        ┌──────────────────────┐    │  ░  ░  ║ └╥┘┌─┐            \n",
       "   q_2: ┤ U(-1.8151,-2.5482,0) ├─X──X──░──░──╫──╫─┤M├────────────\n",
       "        └────────┬───┬─────────┘ │     ░  ░  ║  ║ └╥┘┌─┐         \n",
       "   q_3: ─────────┤ H ├───────────■─────░──░──╫──╫──╫─┤M├─────────\n",
       "                 └───┘           │     ░  ░  ║  ║  ║ └╥┘┌─┐      \n",
       "   q_4: ─────────────────────────X──X──░──░──╫──╫──╫──╫─┤M├──────\n",
       "                                    │  ░  ░  ║  ║  ║  ║ └╥┘┌─┐   \n",
       "   q_5: ────────────────────────────X──░──░──╫──╫──╫──╫──╫─┤M├───\n",
       "                 ┌───┐              │  ░  ░  ║  ║  ║  ║  ║ └╥┘┌─┐\n",
       "   q_6: ─────────┤ H ├──────────────■──░──░──╫──╫──╫──╫──╫──╫─┤M├\n",
       "                 └───┘                 ░  ░  ║  ║  ║  ║  ║  ║ └╥┘\n",
       "meas: 7/═════════════════════════════════════╩══╩══╩══╩══╩══╩══╩═\n",
       "                                             0  1  2  3  4  5  6 "
      ]
     },
     "execution_count": 11,
     "metadata": {},
     "output_type": "execute_result"
    }
   ],
   "source": [
    "get_tomography_circuits(build_circuit(*states[0]), 2)[2].draw()"
   ]
  },
  {
   "cell_type": "code",
   "execution_count": 12,
   "metadata": {},
   "outputs": [],
   "source": [
    "def generate_tomography_sets(theta, phi) -> list[list[QuantumCircuit]]:\n",
    "    return [ \n",
    "        *get_tomography_circuits(\n",
    "            build_circuit(theta, phi), 1\n",
    "        ),\n",
    "        *get_tomography_circuits(\n",
    "            build_circuit(theta, phi), 2\n",
    "        ),\n",
    "        *get_tomography_circuits(\n",
    "            build_circuit(theta, phi), 4\n",
    "        ),\n",
    "        *get_tomography_circuits(\n",
    "            build_circuit(theta, phi), 5\n",
    "        )\n",
    "    ]"
   ]
  },
  {
   "cell_type": "code",
   "execution_count": 13,
   "metadata": {},
   "outputs": [],
   "source": [
    "ibm_brisbane = service.get_backend('ibm_brisbane')"
   ]
  },
  {
   "cell_type": "code",
   "execution_count": 14,
   "metadata": {},
   "outputs": [],
   "source": [
    "circuits_to_send = list(itertools.chain.from_iterable([\n",
    "        circuit for circuit in [\n",
    "            itertools.chain.from_iterable(generate_tomography_sets(theta, phi) for theta, phi in states)\n",
    "        ]\n",
    "    ]\n",
    "))\n",
    "\n",
    "circuits_to_send = [transpile(circuit, ibm_brisbane) for circuit in circuits_to_send]"
   ]
  },
  {
   "cell_type": "code",
   "execution_count": 15,
   "metadata": {},
   "outputs": [],
   "source": [
    "def get_all_physical_qubits(circuit_list: list[QuantumCircuit]) -> set[int]:\n",
    "    all_indices = set()\n",
    "    for circ in circuit_list:    \n",
    "        measurement_indices = [instr[1][0]._index for instr in circ.data if instr[0].name == 'measure']\n",
    "        all_indices = all_indices.union(measurement_indices)\n",
    "    return all_indices\n",
    "\n",
    "\n",
    "def get_mitigation_circuits(circuit_list: list[QuantumCircuit]) -> list[QuantumCircuit]:\n",
    "\n",
    "    physical_qubits = get_all_physical_qubits(circuit_list)\n",
    "\n",
    "    num_qubits = len(physical_qubits)\n",
    "    all_0 = QuantumCircuit(127, num_qubits)\n",
    "    all_0.measure(physical_qubits, range(num_qubits))\n",
    "\n",
    "    all_1 = QuantumCircuit(127, num_qubits)\n",
    "    all_1.x(physical_qubits)\n",
    "    all_1.measure(physical_qubits, range(num_qubits))\n",
    "\n",
    "    return [all_0, all_1]"
   ]
  },
  {
   "cell_type": "code",
   "execution_count": 16,
   "metadata": {},
   "outputs": [],
   "source": [
    "circuits_to_send = get_mitigation_circuits(circuits_to_send) + circuits_to_send"
   ]
  },
  {
   "cell_type": "code",
   "execution_count": 17,
   "metadata": {},
   "outputs": [],
   "source": [
    "hardware_job = ibm_brisbane.run(circuits=circuits_to_send)"
   ]
  },
  {
   "cell_type": "code",
   "execution_count": 18,
   "metadata": {},
   "outputs": [
    {
     "name": "stdout",
     "output_type": "stream",
     "text": [
      "Hardware job ID: cw6gsy7ggr6g0087cff0\n"
     ]
    }
   ],
   "source": [
    "print(f\"Hardware job ID: {hardware_job.job_id()}\")"
   ]
  },
  {
   "cell_type": "markdown",
   "metadata": {},
   "source": [
    "---"
   ]
  },
  {
   "cell_type": "code",
   "execution_count": 19,
   "metadata": {},
   "outputs": [],
   "source": [
    "results = hardware_job.result().get_counts()"
   ]
  },
  {
   "cell_type": "code",
   "execution_count": 20,
   "metadata": {},
   "outputs": [],
   "source": [
    "def get_combined_xyz_counts_for_circuit(counts_list: list) -> tuple[dict]:\n",
    "\n",
    "    output_qubit_1 = []\n",
    "    for counts in counts_list[0:3]:\n",
    "        counts_dict = {}\n",
    "\n",
    "        counts_dict['0'] = sum(count for bit_string, count in counts.items() if bit_string[3] == '0' and bit_string[6] == '1' and bit_string[5] == '0')\n",
    "        counts_dict['1'] = sum(count for bit_string, count in counts.items() if bit_string[3] == '0' and bit_string[6] == '1' and bit_string[5] == '1')\n",
    "\n",
    "        output_qubit_1.append(counts_dict)\n",
    "\n",
    "    output_qubit_2 = []\n",
    "    for counts in counts_list[3:6]:\n",
    "        counts_dict = {}\n",
    "        \n",
    "        counts_dict['0'] = sum(count for bit_string, count in counts.items() if bit_string[3] == '0' and bit_string[6] == '0' and bit_string[4] == '0')\n",
    "        counts_dict['1'] = sum(count for bit_string, count in counts.items() if bit_string[3] == '0' and bit_string[6] == '0' and bit_string[4] == '1')   \n",
    "\n",
    "        output_qubit_2.append(counts_dict)\n",
    "\n",
    "    output_qubit_4 = []\n",
    "    for counts in counts_list[6:9]:\n",
    "        counts_dict = {}\n",
    "        \n",
    "        counts_dict['0'] = sum(count for bit_string, count in counts.items() if bit_string[3] == '1' and bit_string[0] == '0' and bit_string[2] == '0')\n",
    "        counts_dict['1'] = sum(count for bit_string, count in counts.items() if bit_string[3] == '1' and bit_string[0] == '0' and bit_string[2] == '1')    \n",
    "    \n",
    "        output_qubit_4.append(counts_dict)\n",
    "    \n",
    "    output_qubit_5 = []\n",
    "    for counts in counts_list[9:12]:\n",
    "        counts_dict = {}\n",
    "        \n",
    "        counts_dict['0'] = sum(count for bit_string, count in counts.items() if bit_string[3] == '1' and bit_string[0] == '1' and bit_string[1] == '0')\n",
    "        counts_dict['1'] = sum(count for bit_string, count in counts.items() if bit_string[3] == '1' and bit_string[0] == '1' and bit_string[1] == '1')       \n",
    "    \n",
    "        output_qubit_5.append(counts_dict)\n",
    "\n",
    "    output = (add_dicts(*dicts) for dicts in zip(output_qubit_1, output_qubit_2, output_qubit_4, output_qubit_5))   \n",
    "    \n",
    "    return tuple(output)\n",
    "\n",
    "\n",
    "def print_unmitigated_fidelities_combined(counts, theta, phi):\n",
    "\n",
    "    qubit = density_op_from_counts_dict(*get_combined_xyz_counts_for_circuit(counts))\n",
    "\n",
    "    print(get_combined_xyz_counts_for_circuit(counts))\n",
    "    print(qubit)\n",
    "\n",
    "    psi = gen_qubit(theta, phi)\n",
    "\n",
    "    fidelity_q = state_fidelity(qubit, psi)\n",
    "\n",
    "    print(f'State fidelity from combined counts: {fidelity_q}\\n')"
   ]
  },
  {
   "cell_type": "code",
   "execution_count": 21,
   "metadata": {},
   "outputs": [
    {
     "name": "stdout",
     "output_type": "stream",
     "text": [
      "({'0': 2956, '1': 1083}, {'0': 2698, '1': 1707}, {'0': 3136, '1': 1161})\n",
      "[[0.73 +0.j    0.232-0.112j]\n",
      " [0.232+0.112j 0.27 +0.j   ]]\n",
      "State fidelity from combined counts: 0.6919507523432284\n",
      "\n",
      "({'0': 2404, '1': 1832}, {'0': 2650, '1': 1682}, {'0': 1516, '1': 2924})\n",
      "[[0.341+0.j    0.068-0.112j]\n",
      " [0.068+0.112j 0.659+0.j   ]]\n",
      "State fidelity from combined counts: 0.6946337294001045\n",
      "\n",
      "({'0': 2641, '1': 1006}, {'0': 2013, '1': 1812}, {'0': 2584, '1': 1579})\n",
      "[[0.621+0.j    0.224-0.026j]\n",
      " [0.224+0.026j 0.379+0.j   ]]\n",
      "State fidelity from combined counts: 0.6707408294617899\n",
      "\n"
     ]
    }
   ],
   "source": [
    "print_unmitigated_fidelities_combined(results[2:14], *states[0])\n",
    "print_unmitigated_fidelities_combined(results[14:26], *states[1])\n",
    "print_unmitigated_fidelities_combined(results[26:38], *states[2])"
   ]
  },
  {
   "cell_type": "code",
   "execution_count": 22,
   "metadata": {},
   "outputs": [],
   "source": [
    "# Gets the map from a physical qubit to a classical bit for the mitigation calibration matrices\n",
    "def get_qubit_to_clbit_mappings_for_mitigation(circuit: QuantumCircuit) -> dict[int, int]:\n",
    "    return dict(\n",
    "        ((instr[1][0]._index, instr[2][0]._index) for instr in circuit.data if instr[0].name == 'measure')\n",
    "    )\n",
    "\n",
    "# Gets the map from physical qubit to mitigation matrix\n",
    "def get_assignment_matrices(mappings: dict, counts_0: dict, counts_1: dict) -> dict[int, ndarray]:\n",
    "\n",
    "    output = {}\n",
    "\n",
    "    for physical_qubit, classical_bit in mappings.items():\n",
    "        \n",
    "        # Determine zero state for assignment matrix\n",
    "        result_0 = sum([count for bit_string, count in counts_0.items() if bit_string[classical_bit] == '0'])\n",
    "        result_1 = sum([count for bit_string, count in counts_0.items() if bit_string[classical_bit] == '1'])\n",
    "        \n",
    "        # Calculate zero ket\n",
    "        zero_ket = array([[result_0], \n",
    "                          [result_1]]) / (result_0 + result_1)\n",
    "        \n",
    "        # Determine one state for assignment matrix\n",
    "        result_0 = sum([count for bit_string, count in counts_1.items() if bit_string[classical_bit] == '0'])\n",
    "        result_1 = sum([count for bit_string, count in counts_1.items() if bit_string[classical_bit] == '1'])\n",
    "        \n",
    "        # Calculate zero ket\n",
    "        one_ket = array([[result_0], \n",
    "                         [result_1]]) / (result_0 + result_1)\n",
    "        \n",
    "        assignment_matrix = numpy.concatenate([zero_ket, one_ket], axis=1)\n",
    "\n",
    "        output[physical_qubit] = assignment_matrix\n",
    "    \n",
    "    return output\n",
    "\n",
    "# Get the list of physical qubits in the same order as the classical bits \n",
    "def get_qubits_in_clbit_order(circuit: QuantumCircuit) -> list[int]:\n",
    "    \n",
    "    cl_bit_to_qbit_map = dict((instr[2][0]._index, instr[1][0]._index) for instr in circuit.data if instr[0].name == 'measure')\n",
    "\n",
    "    return [*cl_bit_to_qbit_map.values()]\n",
    "    \n",
    "\n",
    "# Get the tensor of all mitigation matrices in the correct order for each circuit\n",
    "def get_mitigation_matrix(circuit: QuantumCircuit, assignment_mappings: dict) -> ndarray:\n",
    "    ordered_physical_qubits = get_qubits_in_clbit_order(circuit)\n",
    "\n",
    "    ordered_physical_qubits.reverse()\n",
    "\n",
    "    assignment_matrices = [assignment_mappings[qubit] for qubit in ordered_physical_qubits]\n",
    "\n",
    "    return tens(*(scipy.linalg.inv(mat) for mat in assignment_matrices))\n",
    "\n",
    "\n",
    "def get_bit_strings(count: int) -> list[str]:\n",
    "    return [''.join(bits) for bits in itertools.product(['0', '1'], repeat=count)]\n",
    "\n",
    "\n",
    "def get_corrected_counts(circuit: QuantumCircuit, counts_for_mitigation: dict, assignment_mappings: dict, num_qubits: int) -> dict[str, int]:\n",
    "    bit_strings = get_bit_strings(num_qubits)\n",
    "\n",
    "    counts_list = []\n",
    "    for bit_string in bit_strings:\n",
    "        counts_list.append(counts_for_mitigation[bit_string] if bit_string in counts_for_mitigation else 0)\n",
    "    \n",
    "    # Get vector of counts\n",
    "    counts_vector = numpy.concatenate(\n",
    "        array([[count for count in counts_list]]),\n",
    "        axis=0\n",
    "    )\n",
    "\n",
    "    mitigation_matrix = get_mitigation_matrix(circuit, assignment_mappings)\n",
    "    \n",
    "    # Multiply by mitigation matirx\n",
    "    corrected_vector = mitigation_matrix @ counts_vector\n",
    "    corrected_vector = corrected_vector.astype(int)\n",
    "    \n",
    "    output = {}\n",
    "    for idx, bit_string in zip(range(2**num_qubits), bit_strings):\n",
    "        output[bit_string] = int(corrected_vector[idx])\n",
    "    \n",
    "    return output"
   ]
  },
  {
   "cell_type": "code",
   "execution_count": 23,
   "metadata": {},
   "outputs": [],
   "source": [
    "# Get list of qubit to clbit mappings for the mitigation circuits.\n",
    "mitigation_mappings = get_qubit_to_clbit_mappings_for_mitigation(circuits_to_send[0])\n",
    "\n",
    "# Calculate assignment matrices for each qubit. \n",
    "assignment_matrices = get_assignment_matrices(mitigation_mappings, results[0], results[1])"
   ]
  },
  {
   "cell_type": "code",
   "execution_count": 24,
   "metadata": {},
   "outputs": [],
   "source": [
    "def print_mitigated_fidelities_combined(circuits, counts, assignment_matrices, num_qubits, theta, phi):\n",
    "\n",
    "    mitigated_counts = []\n",
    "\n",
    "    for circuit, count in zip(circuits, counts):\n",
    "        mitigated_counts.append(get_corrected_counts(circuit, count, assignment_matrices, num_qubits))\n",
    "\n",
    "    qubit = density_op_from_counts_dict(*get_combined_xyz_counts_for_circuit(mitigated_counts))\n",
    "    \n",
    "    print(get_combined_xyz_counts_for_circuit(mitigated_counts))\n",
    "    print(qubit)\n",
    "\n",
    "    psi = gen_qubit(theta, phi)\n",
    "\n",
    "    fidelity_q = state_fidelity(qubit, psi)\n",
    "\n",
    "    print(f'Mitigated state fidelity from combined counts: {fidelity_q}\\n')"
   ]
  },
  {
   "cell_type": "code",
   "execution_count": 26,
   "metadata": {},
   "outputs": [
    {
     "name": "stdout",
     "output_type": "stream",
     "text": [
      "({'0': 2923, '1': 1024}, {'0': 2677, '1': 1655}, {'0': 3110, '1': 1135})\n",
      "[[0.733+0.j    0.241-0.118j]\n",
      " [0.241+0.118j 0.267+0.j   ]]\n",
      "Mitigated state fidelity from combined counts: 0.7012364469881539\n",
      "\n",
      "({'0': 2394, '1': 1802}, {'0': 2626, '1': 1652}, {'0': 1389, '1': 2972})\n",
      "[[0.319+0.j    0.071-0.114j]\n",
      " [0.071+0.114j 0.681+0.j   ]]\n",
      "Mitigated state fidelity from combined counts: 0.7170027686847962\n",
      "\n",
      "({'0': 2637, '1': 964}, {'0': 2001, '1': 1793}, {'0': 2549, '1': 1568})\n",
      "[[0.619+0.j    0.232-0.027j]\n",
      " [0.232+0.027j 0.381+0.j   ]]\n",
      "Mitigated state fidelity from combined counts: 0.6789995975881883\n",
      "\n"
     ]
    }
   ],
   "source": [
    "print_mitigated_fidelities_combined(circuits_to_send[2:14], results[2:14], assignment_matrices, 7, *states[0])\n",
    "print_mitigated_fidelities_combined(circuits_to_send[14:26], results[14:26], assignment_matrices, 7, *states[1])\n",
    "print_mitigated_fidelities_combined(circuits_to_send[26:38], results[26:38], assignment_matrices, 7, *states[2])"
   ]
  },
  {
   "cell_type": "code",
   "execution_count": null,
   "metadata": {},
   "outputs": [],
   "source": []
  }
 ],
 "metadata": {
  "kernelspec": {
   "display_name": "Python 3",
   "language": "python",
   "name": "python3"
  },
  "language_info": {
   "codemirror_mode": {
    "name": "ipython",
    "version": 3
   },
   "file_extension": ".py",
   "mimetype": "text/x-python",
   "name": "python",
   "nbconvert_exporter": "python",
   "pygments_lexer": "ipython3",
   "version": "3.11.1"
  }
 },
 "nbformat": 4,
 "nbformat_minor": 2
}
