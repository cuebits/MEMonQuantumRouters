{
 "cells": [
  {
   "cell_type": "code",
   "execution_count": 1,
   "metadata": {},
   "outputs": [],
   "source": [
    "import sys\n",
    "sys.path.append('..') # Search for custom module in the top level. \n",
    "\n",
    "# Import my custom modules.\n",
    "from allens_quantum_package.functions import * \n",
    "from allens_quantum_package.operators import *\n",
    "\n",
    "from qiskit import *\n",
    "from qiskit.quantum_info import state_fidelity\n",
    "from qiskit_aer import AerSimulator\n",
    "from qiskit_aer.noise import NoiseModel\n",
    "from qiskit_experiments.framework import ExperimentData\n",
    "from qiskit_experiments.library.tomography import MitigatedTomographyAnalysis, MitigatedStateTomography, TomographyAnalysis\n",
    "from qiskit_experiments.library.tomography.basis import PauliMeasurementBasis\n",
    "from qiskit_experiments.library.characterization.analysis import LocalReadoutErrorAnalysis\n",
    "from qiskit_ibm_runtime import QiskitRuntimeService\n",
    "\n",
    "import scipy\n",
    "from numpy import set_printoptions, radians, ndarray, pi, degrees, radians\n",
    "from random import randint\n",
    "from collections import namedtuple\n",
    "\n",
    "import itertools\n",
    "from itertools import product"
   ]
  },
  {
   "cell_type": "code",
   "execution_count": 2,
   "metadata": {},
   "outputs": [],
   "source": [
    "# Set the floating point diplay precision to 2 decimal places, sufficient for our purposes.\n",
    "set_printoptions(precision=3)\n",
    "\n",
    "# Initialise the Qiskit runtime service. \n",
    "service = QiskitRuntimeService()"
   ]
  },
  {
   "cell_type": "code",
   "execution_count": 3,
   "metadata": {},
   "outputs": [],
   "source": [
    "states = [\n",
    "    (radians(-104), radians(-146)),\n",
    "    (radians(-158), radians(-108)),\n",
    "    (radians(-110), radians(-172))\n",
    "]"
   ]
  },
  {
   "cell_type": "code",
   "execution_count": 4,
   "metadata": {},
   "outputs": [],
   "source": [
    "def build_circuit(theta, phi) -> QuantumCircuit:\n",
    "    circ = QuantumCircuit(7)\n",
    "    \n",
    "    # Route on first layer\n",
    "    circ.h(3)\n",
    "    circ.u(theta, phi, 0, 2)\n",
    "    circ.cswap(3, 2, 4)\n",
    "    \n",
    "    # Route on second layer, top\n",
    "    circ.h(0)\n",
    "    circ.cswap(0, 1, 2)\n",
    "    \n",
    "    # Route on second layer, bottom\n",
    "    circ.h(6)\n",
    "    circ.cswap(6, 4, 5)\n",
    "    \n",
    "    return circ"
   ]
  },
  {
   "cell_type": "code",
   "execution_count": 5,
   "metadata": {},
   "outputs": [
    {
     "data": {
      "text/html": [
       "<pre style=\"word-wrap: normal;white-space: pre;background: #fff0;line-height: 1.1;font-family: &quot;Courier New&quot;,Courier,monospace\">              ┌───┐                \n",
       "q_0: ─────────┤ H ├──────────────■─\n",
       "              └───┘              │ \n",
       "q_1: ────────────────────────────X─\n",
       "     ┌──────────────────────┐    │ \n",
       "q_2: ┤ U(-1.8151,-2.5482,0) ├─X──X─\n",
       "     └────────┬───┬─────────┘ │    \n",
       "q_3: ─────────┤ H ├───────────■────\n",
       "              └───┘           │    \n",
       "q_4: ─────────────────────────X──X─\n",
       "                                 │ \n",
       "q_5: ────────────────────────────X─\n",
       "              ┌───┐              │ \n",
       "q_6: ─────────┤ H ├──────────────■─\n",
       "              └───┘                </pre>"
      ],
      "text/plain": [
       "              ┌───┐                \n",
       "q_0: ─────────┤ H ├──────────────■─\n",
       "              └───┘              │ \n",
       "q_1: ────────────────────────────X─\n",
       "     ┌──────────────────────┐    │ \n",
       "q_2: ┤ U(-1.8151,-2.5482,0) ├─X──X─\n",
       "     └────────┬───┬─────────┘ │    \n",
       "q_3: ─────────┤ H ├───────────■────\n",
       "              └───┘           │    \n",
       "q_4: ─────────────────────────X──X─\n",
       "                                 │ \n",
       "q_5: ────────────────────────────X─\n",
       "              ┌───┐              │ \n",
       "q_6: ─────────┤ H ├──────────────■─\n",
       "              └───┘                "
      ]
     },
     "execution_count": 5,
     "metadata": {},
     "output_type": "execute_result"
    }
   ],
   "source": [
    "build_circuit(*states[0]).draw()"
   ]
  },
  {
   "cell_type": "code",
   "execution_count": 8,
   "metadata": {},
   "outputs": [],
   "source": [
    "def build_tomography_set(circuit: QuantumCircuit) -> QuantumCircuit:\n",
    "    signal_paths = [1, 2, 4, 5]\n",
    "    \n",
    "    circuit_x = circuit.copy()\n",
    "    circuit_x.h(signal_paths)\n",
    "    circuit_x.measure_all()\n",
    "\n",
    "    circuit_y = circuit.copy()\n",
    "    circuit_y.sdg(signal_paths)\n",
    "    circuit_y.h(signal_paths)\n",
    "    circuit_y.measure_all()\n",
    "\n",
    "    circuit_z = circuit.copy()\n",
    "    circuit_z.measure_all()\n",
    "\n",
    "    return [circuit_x, circuit_y, circuit_z]\n"
   ]
  },
  {
   "cell_type": "code",
   "execution_count": 9,
   "metadata": {},
   "outputs": [],
   "source": [
    "ibm_brisbane = service.get_backend('ibm_brisbane')"
   ]
  },
  {
   "cell_type": "code",
   "execution_count": 10,
   "metadata": {},
   "outputs": [],
   "source": [
    "circuits_to_send = list(itertools.chain.from_iterable([\n",
    "        circuit for circuit in [\n",
    "            build_tomography_set(build_circuit(theta, phi)) for theta, phi in states\n",
    "        ]\n",
    "    ]\n",
    "))\n",
    "\n",
    "circuits_to_send = [transpile(circuit, ibm_brisbane) for circuit in circuits_to_send]"
   ]
  },
  {
   "cell_type": "code",
   "execution_count": 12,
   "metadata": {},
   "outputs": [],
   "source": [
    "def get_all_physical_qubits(circuit_list: list[QuantumCircuit]) -> set[int]:\n",
    "    all_indices = set()\n",
    "    for circ in circuit_list:    \n",
    "        measurement_indices = [instr[1][0]._index for instr in circ.data if instr[0].name == 'measure']\n",
    "        all_indices = all_indices.union(measurement_indices)\n",
    "    return all_indices\n",
    "\n",
    "\n",
    "def get_mitigation_circuits(circuit_list: list[QuantumCircuit]) -> list[QuantumCircuit]:\n",
    "\n",
    "    physical_qubits = get_all_physical_qubits(circuit_list)\n",
    "\n",
    "    num_qubits = len(physical_qubits)\n",
    "    all_0 = QuantumCircuit(127, num_qubits)\n",
    "    all_0.measure(physical_qubits, range(num_qubits))\n",
    "\n",
    "    all_1 = QuantumCircuit(127, num_qubits)\n",
    "    all_1.x(physical_qubits)\n",
    "    all_1.measure(physical_qubits, range(num_qubits))\n",
    "\n",
    "    return [all_0, all_1]"
   ]
  },
  {
   "cell_type": "code",
   "execution_count": 13,
   "metadata": {},
   "outputs": [],
   "source": [
    "circuits_to_send = get_mitigation_circuits(circuits_to_send) + circuits_to_send"
   ]
  },
  {
   "cell_type": "code",
   "execution_count": 14,
   "metadata": {},
   "outputs": [],
   "source": [
    "hardware_job = ibm_brisbane.run(circuits=circuits_to_send)"
   ]
  },
  {
   "cell_type": "code",
   "execution_count": 15,
   "metadata": {},
   "outputs": [
    {
     "name": "stdout",
     "output_type": "stream",
     "text": [
      "Hardware job ID: cw5pyfhvwdtg0081n9b0\n"
     ]
    }
   ],
   "source": [
    "print(f\"Hardware job ID: {hardware_job.job_id()}\")"
   ]
  },
  {
   "cell_type": "markdown",
   "metadata": {},
   "source": [
    "---"
   ]
  },
  {
   "cell_type": "code",
   "execution_count": 63,
   "metadata": {},
   "outputs": [],
   "source": [
    "result = hardware_job.result().get_counts()"
   ]
  },
  {
   "cell_type": "markdown",
   "metadata": {},
   "source": [
    "### Calculate Unmitigated Fidelities"
   ]
  },
  {
   "cell_type": "code",
   "execution_count": 92,
   "metadata": {},
   "outputs": [],
   "source": [
    "def get_signal_qubit_idx_from_measurement_outcome(bit_string: str) -> int:\n",
    "    if bit_string[3] == '0':\n",
    "        if bit_string[6] == '0':\n",
    "            return 4\n",
    "        return 5\n",
    "    else:\n",
    "        if bit_string[0] == '0':\n",
    "            return 2\n",
    "        return 1\n",
    "\n",
    "\n",
    "def get_xyz_counts_for_circuit(counts_list: list) -> tuple[dict]:\n",
    "    output = []\n",
    "    for counts in counts_list:\n",
    "        counts_dict = {}\n",
    "        \n",
    "        counts_dict['0'] = sum(count for bit_string, count in counts.items() if bit_string[get_signal_qubit_idx_from_measurement_outcome(bit_string)] == '0')\n",
    "        counts_dict['1'] = sum(count for bit_string, count in counts.items() if bit_string[get_signal_qubit_idx_from_measurement_outcome(bit_string)] == '1')\n",
    "        \n",
    "        output.append(counts_dict)\n",
    "    \n",
    "    return tuple(output)\n",
    "\n",
    "\n",
    "def print_unmitigated_fidelities_combined(counts, theta, phi):\n",
    "\n",
    "    qubit = density_op_from_counts_dict(*get_xyz_counts_for_circuit(counts))\n",
    "\n",
    "    print(get_xyz_counts_for_circuit(counts))\n",
    "    print(qubit)\n",
    "\n",
    "    psi = gen_qubit(theta, phi)\n",
    "\n",
    "    fidelity_q = state_fidelity(qubit, psi)\n",
    "\n",
    "    print(f'State fidelity from combined counts: {fidelity_q}\\n')"
   ]
  },
  {
   "cell_type": "code",
   "execution_count": 93,
   "metadata": {},
   "outputs": [
    {
     "name": "stdout",
     "output_type": "stream",
     "text": [
      "({'0': 3227, '1': 773}, {'0': 1741, '1': 2259}, {'0': 2433, '1': 1567})\n",
      "[[0.608+0.j    0.307+0.065j]\n",
      " [0.307-0.065j 0.392+0.j   ]]\n",
      "State fidelity from combined counts: 0.6854330013996655\n",
      "\n",
      "({'0': 1924, '1': 2076}, {'0': 2244, '1': 1756}, {'0': 2732, '1': 1268})\n",
      "[[ 0.683+0.j    -0.019-0.061j]\n",
      " [-0.019+0.061j  0.317+0.j   ]]\n",
      "State fidelity from combined counts: 0.3498585128910752\n",
      "\n",
      "({'0': 1813, '1': 2187}, {'0': 1100, '1': 2900}, {'0': 2299, '1': 1701})\n",
      "[[ 0.575+0.j    -0.047+0.225j]\n",
      " [-0.047-0.225j  0.425+0.j   ]]\n",
      "State fidelity from combined counts: 0.4015054085397613\n",
      "\n"
     ]
    }
   ],
   "source": [
    "print_unmitigated_fidelities_combined(result[2:5], *states[0])\n",
    "print_unmitigated_fidelities_combined(result[5:8], *states[1])\n",
    "print_unmitigated_fidelities_combined(result[8:11], *states[2])"
   ]
  },
  {
   "cell_type": "markdown",
   "metadata": {},
   "source": [
    "### Calculate Mitigation Fidelities"
   ]
  },
  {
   "cell_type": "code",
   "execution_count": 42,
   "metadata": {},
   "outputs": [],
   "source": [
    "# Gets the map from a physical qubit to a classical bit for the mitigation calibration matrices\n",
    "def get_qubit_to_clbit_mappings_for_mitigation(circuit: QuantumCircuit) -> dict[int, int]:\n",
    "    return dict(\n",
    "        ((instr[1][0]._index, instr[2][0]._index) for instr in circuit.data if instr[0].name == 'measure')\n",
    "    )\n",
    "\n",
    "# Gets the map from physical qubit to mitigation matrix\n",
    "def get_assignment_matrices(mappings: dict, counts_0: dict, counts_1: dict) -> dict[int, ndarray]:\n",
    "\n",
    "    output = {}\n",
    "\n",
    "    for physical_qubit, classical_bit in mappings.items():\n",
    "        \n",
    "        # Determine zero state for assignment matrix\n",
    "        result_0 = sum([count for bit_string, count in counts_0.items() if bit_string[classical_bit] == '0'])\n",
    "        result_1 = sum([count for bit_string, count in counts_0.items() if bit_string[classical_bit] == '1'])\n",
    "        \n",
    "        # Calculate zero ket\n",
    "        zero_ket = array([[result_0], \n",
    "                          [result_1]]) / (result_0 + result_1)\n",
    "        \n",
    "        # Determine one state for assignment matrix\n",
    "        result_0 = sum([count for bit_string, count in counts_1.items() if bit_string[classical_bit] == '0'])\n",
    "        result_1 = sum([count for bit_string, count in counts_1.items() if bit_string[classical_bit] == '1'])\n",
    "        \n",
    "        # Calculate zero ket\n",
    "        one_ket = array([[result_0], \n",
    "                         [result_1]]) / (result_0 + result_1)\n",
    "        \n",
    "        assignment_matrix = numpy.concatenate([zero_ket, one_ket], axis=1)\n",
    "\n",
    "        output[physical_qubit] = assignment_matrix\n",
    "    \n",
    "    return output\n",
    "\n",
    "# Get the list of physical qubits in the same order as the classical bits \n",
    "def get_qubits_in_clbit_order(circuit: QuantumCircuit) -> list[int]:\n",
    "    \n",
    "    cl_bit_to_qbit_map = dict((instr[2][0]._index, instr[1][0]._index) for instr in circuit.data if instr[0].name == 'measure')\n",
    "\n",
    "    return [*cl_bit_to_qbit_map.values()]\n",
    "    \n",
    "\n",
    "# Get the tensor of all mitigation matrices in the correct order for each circuit\n",
    "def get_mitigation_matrix(circuit: QuantumCircuit, assignment_mappings: dict) -> ndarray:\n",
    "    ordered_physical_qubits = get_qubits_in_clbit_order(circuit)\n",
    "\n",
    "    ordered_physical_qubits.reverse()\n",
    "\n",
    "    assignment_matrices = [assignment_mappings[qubit] for qubit in ordered_physical_qubits]\n",
    "\n",
    "    return tens(*(scipy.linalg.inv(mat) for mat in assignment_matrices))\n",
    "\n",
    "\n",
    "def get_bit_strings(count: int) -> list[str]:\n",
    "    return [''.join(bits) for bits in itertools.product(['0', '1'], repeat=count)]\n",
    "\n",
    "\n",
    "def get_corrected_counts(circuit: QuantumCircuit, counts_for_mitigation: dict, assignment_mappings: dict, num_qubits: int) -> dict[str, int]:\n",
    "    bit_strings = get_bit_strings(num_qubits)\n",
    "\n",
    "    counts_list = []\n",
    "    for bit_string in bit_strings:\n",
    "        counts_list.append(counts_for_mitigation[bit_string] if bit_string in counts_for_mitigation else 0)\n",
    "    \n",
    "    # Get vector of counts\n",
    "    counts_vector = numpy.concatenate(\n",
    "        array([[count for count in counts_list]]),\n",
    "        axis=0\n",
    "    )\n",
    "\n",
    "    mitigation_matrix = get_mitigation_matrix(circuit, assignment_mappings)\n",
    "    \n",
    "    # Multiply by mitigation matirx\n",
    "    corrected_vector = mitigation_matrix @ counts_vector\n",
    "    corrected_vector = corrected_vector.astype(int)\n",
    "    \n",
    "    output = {}\n",
    "    for idx, bit_string in zip(range(2**num_qubits), bit_strings):\n",
    "        output[bit_string] = int(corrected_vector[idx])\n",
    "    \n",
    "    return output"
   ]
  },
  {
   "cell_type": "code",
   "execution_count": 47,
   "metadata": {},
   "outputs": [],
   "source": [
    "# Get list of qubit to clbit mappings for the mitigation circuits.\n",
    "mitigation_mappings = get_qubit_to_clbit_mappings_for_mitigation(circuits_to_send[0])\n",
    "\n",
    "# Calculate assignment matrices for each qubit. \n",
    "assignment_matrices = get_assignment_matrices(mitigation_mappings, result[0], result[1])"
   ]
  },
  {
   "cell_type": "code",
   "execution_count": 98,
   "metadata": {},
   "outputs": [],
   "source": [
    "def print_mitigated_fidelities_combined(circuits, counts, assignment_matrices, num_qubits, theta, phi):\n",
    "\n",
    "    mitigated_counts = []\n",
    "\n",
    "    for circuit, count in zip(circuits, counts):\n",
    "        mitigated_counts.append(get_corrected_counts(circuit, count, assignment_matrices, num_qubits))\n",
    "\n",
    "    qubit = density_op_from_counts_dict(*get_xyz_counts_for_circuit(mitigated_counts))\n",
    "    \n",
    "    print(get_xyz_counts_for_circuit(mitigated_counts))\n",
    "    print(qubit)\n",
    "\n",
    "    psi = gen_qubit(theta, phi)\n",
    "\n",
    "    fidelity_q = state_fidelity(qubit, psi)\n",
    "\n",
    "    print(f'Mitigated state fidelity from combined counts: {fidelity_q}\\n')"
   ]
  },
  {
   "cell_type": "code",
   "execution_count": 99,
   "metadata": {},
   "outputs": [
    {
     "name": "stdout",
     "output_type": "stream",
     "text": [
      "({'0': 3261, '1': 674}, {'0': 1703, '1': 2234}, {'0': 2430, '1': 1506})\n",
      "[[0.617+0.j    0.329+0.067j]\n",
      " [0.329-0.067j 0.383+0.j   ]]\n",
      "Mitigated state fidelity from combined counts: 0.6994369589622998\n",
      "\n",
      "({'0': 1858, '1': 2074}, {'0': 2213, '1': 1724}, {'0': 2717, '1': 1224})\n",
      "[[ 0.689+0.j    -0.027-0.062j]\n",
      " [-0.027+0.062j  0.311+0.j   ]]\n",
      "Mitigated state fidelity from combined counts: 0.34331986660772573\n",
      "\n",
      "({'0': 1781, '1': 2150}, {'0': 1022, '1': 2916}, {'0': 2290, '1': 1647})\n",
      "[[ 0.582+0.j   -0.047+0.24j]\n",
      " [-0.047-0.24j  0.418+0.j  ]]\n",
      "Mitigated state fidelity from combined counts: 0.39694571835263903\n",
      "\n"
     ]
    }
   ],
   "source": [
    "print_mitigated_fidelities_combined(circuits_to_send[2:5], result[2:5], assignment_matrices, 7, *states[0])\n",
    "print_mitigated_fidelities_combined(circuits_to_send[5:8], result[5:8], assignment_matrices, 7, *states[1])\n",
    "print_mitigated_fidelities_combined(circuits_to_send[8:11], result[8:11], assignment_matrices, 7, *states[2])"
   ]
  },
  {
   "cell_type": "code",
   "execution_count": 67,
   "metadata": {},
   "outputs": [
    {
     "name": "stdout",
     "output_type": "stream",
     "text": [
      "0000001 unmitigated: 46 mitigated: 47 difference 1\n",
      "0000010 unmitigated: 34 mitigated: 33 difference -1\n",
      "0000011 unmitigated: 6 mitigated: 4 difference -2\n",
      "0000100 unmitigated: 14 mitigated: 13 difference -1\n",
      "0000101 unmitigated: 57 mitigated: 59 difference 2\n",
      "0000110 unmitigated: 7 mitigated: 6 difference -1\n",
      "0000111 unmitigated: 6 mitigated: 4 difference -2\n",
      "0001001 unmitigated: 57 mitigated: 56 difference -1\n",
      "0001010 unmitigated: 54 mitigated: 52 difference -2\n",
      "0001100 unmitigated: 43 mitigated: 42 difference -1\n",
      "0001101 unmitigated: 64 mitigated: 63 difference -1\n",
      "0001111 unmitigated: 36 mitigated: 35 difference -1\n",
      "0010000 unmitigated: 45 mitigated: 47 difference 2\n",
      "0010001 unmitigated: 46 mitigated: 48 difference 2\n",
      "0010010 unmitigated: 56 mitigated: 59 difference 3\n",
      "0010011 unmitigated: 5 mitigated: 3 difference -2\n",
      "0010100 unmitigated: 10 mitigated: 9 difference -1\n",
      "0010101 unmitigated: 51 mitigated: 54 difference 3\n",
      "0010111 unmitigated: 10 mitigated: 9 difference -1\n",
      "0011000 unmitigated: 5 mitigated: 2 difference -3\n",
      "0011001 unmitigated: 7 mitigated: 4 difference -3\n",
      "0011010 unmitigated: 12 mitigated: 9 difference -3\n",
      "0011011 unmitigated: 14 mitigated: 13 difference -1\n",
      "0011100 unmitigated: 8 mitigated: 7 difference -1\n",
      "0011101 unmitigated: 15 mitigated: 12 difference -3\n",
      "0011110 unmitigated: 13 mitigated: 12 difference -1\n",
      "0011111 unmitigated: 11 mitigated: 10 difference -1\n",
      "0100000 unmitigated: 37 mitigated: 36 difference -1\n",
      "0100011 unmitigated: 13 mitigated: 11 difference -2\n",
      "0100100 unmitigated: 18 mitigated: 17 difference -1\n",
      "0100101 unmitigated: 59 mitigated: 61 difference 2\n",
      "0100110 unmitigated: 9 mitigated: 8 difference -1\n",
      "0100111 unmitigated: 11 mitigated: 10 difference -1\n",
      "0101010 unmitigated: 79 mitigated: 80 difference 1\n",
      "0101011 unmitigated: 60 mitigated: 61 difference 1\n",
      "0101110 unmitigated: 55 mitigated: 56 difference 1\n",
      "0101111 unmitigated: 40 mitigated: 39 difference -1\n",
      "0110000 unmitigated: 50 mitigated: 53 difference 3\n",
      "0110001 unmitigated: 45 mitigated: 47 difference 2\n",
      "0110010 unmitigated: 52 mitigated: 55 difference 3\n",
      "0110011 unmitigated: 13 mitigated: 12 difference -1\n",
      "0110100 unmitigated: 12 mitigated: 11 difference -1\n",
      "0110101 unmitigated: 50 mitigated: 53 difference 3\n",
      "0110110 unmitigated: 8 mitigated: 7 difference -1\n",
      "0110111 unmitigated: 9 mitigated: 8 difference -1\n",
      "0111000 unmitigated: 12 mitigated: 9 difference -3\n",
      "0111001 unmitigated: 8 mitigated: 5 difference -3\n",
      "0111010 unmitigated: 11 mitigated: 8 difference -3\n",
      "0111011 unmitigated: 4 mitigated: 2 difference -2\n",
      "0111100 unmitigated: 5 mitigated: 4 difference -1\n",
      "0111101 unmitigated: 9 mitigated: 6 difference -3\n",
      "0111110 unmitigated: 9 mitigated: 8 difference -1\n",
      "0111111 unmitigated: 12 mitigated: 11 difference -1\n",
      "1000001 unmitigated: 27 mitigated: 26 difference -1\n",
      "1000010 unmitigated: 49 mitigated: 50 difference 1\n",
      "1000011 unmitigated: 10 mitigated: 9 difference -1\n",
      "1000100 unmitigated: 11 mitigated: 10 difference -1\n",
      "1000101 unmitigated: 52 mitigated: 53 difference 1\n",
      "1000110 unmitigated: 12 mitigated: 11 difference -1\n",
      "1000111 unmitigated: 7 mitigated: 5 difference -2\n",
      "1001000 unmitigated: 42 mitigated: 39 difference -3\n",
      "1001010 unmitigated: 53 mitigated: 51 difference -2\n",
      "1001011 unmitigated: 47 mitigated: 46 difference -1\n",
      "1001100 unmitigated: 40 mitigated: 39 difference -1\n",
      "1001101 unmitigated: 61 mitigated: 59 difference -2\n",
      "1001110 unmitigated: 49 mitigated: 48 difference -1\n",
      "1001111 unmitigated: 39 mitigated: 38 difference -1\n",
      "1010000 unmitigated: 24 mitigated: 23 difference -1\n",
      "1010001 unmitigated: 42 mitigated: 43 difference 1\n",
      "1010010 unmitigated: 43 mitigated: 44 difference 1\n",
      "1010011 unmitigated: 9 mitigated: 7 difference -2\n",
      "1010100 unmitigated: 11 mitigated: 10 difference -1\n",
      "1010101 unmitigated: 48 mitigated: 50 difference 2\n",
      "1010110 unmitigated: 5 mitigated: 3 difference -2\n",
      "1010111 unmitigated: 11 mitigated: 10 difference -1\n",
      "1011000 unmitigated: 55 mitigated: 56 difference 1\n",
      "1011010 unmitigated: 52 mitigated: 51 difference -1\n",
      "1011011 unmitigated: 49 mitigated: 50 difference 1\n",
      "1011100 unmitigated: 55 mitigated: 56 difference 1\n",
      "1011110 unmitigated: 54 mitigated: 55 difference 1\n",
      "1011111 unmitigated: 36 mitigated: 35 difference -1\n",
      "1100000 unmitigated: 52 mitigated: 54 difference 2\n",
      "1100001 unmitigated: 54 mitigated: 56 difference 2\n",
      "1100010 unmitigated: 51 mitigated: 52 difference 1\n",
      "1100011 unmitigated: 11 mitigated: 10 difference -1\n",
      "1100100 unmitigated: 8 mitigated: 6 difference -2\n",
      "1100101 unmitigated: 73 mitigated: 77 difference 4\n",
      "1100110 unmitigated: 7 mitigated: 6 difference -1\n",
      "1100111 unmitigated: 11 mitigated: 10 difference -1\n",
      "1101000 unmitigated: 18 mitigated: 15 difference -3\n",
      "1101001 unmitigated: 21 mitigated: 18 difference -3\n",
      "1101010 unmitigated: 12 mitigated: 9 difference -3\n",
      "1101011 unmitigated: 16 mitigated: 15 difference -1\n",
      "1101100 unmitigated: 25 mitigated: 24 difference -1\n",
      "1101101 unmitigated: 27 mitigated: 24 difference -3\n",
      "1101110 unmitigated: 18 mitigated: 17 difference -1\n",
      "1101111 unmitigated: 21 mitigated: 20 difference -1\n",
      "1110000 unmitigated: 39 mitigated: 40 difference 1\n",
      "1110001 unmitigated: 47 mitigated: 49 difference 2\n",
      "1110010 unmitigated: 50 mitigated: 53 difference 3\n",
      "1110011 unmitigated: 13 mitigated: 12 difference -1\n",
      "1110100 unmitigated: 11 mitigated: 10 difference -1\n",
      "1110101 unmitigated: 65 mitigated: 69 difference 4\n",
      "1110111 unmitigated: 10 mitigated: 9 difference -1\n",
      "1111000 unmitigated: 17 mitigated: 15 difference -2\n",
      "1111001 unmitigated: 20 mitigated: 18 difference -2\n",
      "1111010 unmitigated: 10 mitigated: 7 difference -3\n",
      "1111100 unmitigated: 15 mitigated: 14 difference -1\n",
      "1111101 unmitigated: 17 mitigated: 14 difference -3\n",
      "1111110 unmitigated: 13 mitigated: 12 difference -1\n"
     ]
    }
   ],
   "source": [
    "for string, count in get_corrected_counts(circuits_to_send[2], result[2], assignment_matrices, 7).items():\n",
    "    if not count == result[2][string]:\n",
    "        print(f'{string} unmitigated: {result[2][string]} mitigated: {count} difference {count - result[2][string]}')"
   ]
  }
 ],
 "metadata": {
  "kernelspec": {
   "display_name": "Python 3",
   "language": "python",
   "name": "python3"
  },
  "language_info": {
   "codemirror_mode": {
    "name": "ipython",
    "version": 3
   },
   "file_extension": ".py",
   "mimetype": "text/x-python",
   "name": "python",
   "nbconvert_exporter": "python",
   "pygments_lexer": "ipython3",
   "version": "3.11.1"
  }
 },
 "nbformat": 4,
 "nbformat_minor": 2
}
