{
 "cells": [
  {
   "cell_type": "code",
   "execution_count": 1,
   "metadata": {},
   "outputs": [],
   "source": [
    "import sys\n",
    "sys.path.append('..') # Search for custom module in the top level. \n",
    "\n",
    "# Import my custom modules.\n",
    "from allens_quantum_package.functions import * \n",
    "from allens_quantum_package.operators import *\n",
    "\n",
    "from qiskit import *\n",
    "from qiskit.quantum_info import state_fidelity\n",
    "from qiskit_aer import AerSimulator\n",
    "from qiskit_aer.noise import NoiseModel\n",
    "from qiskit_experiments.framework import ExperimentData\n",
    "from qiskit_experiments.library.tomography import MitigatedTomographyAnalysis, MitigatedStateTomography, TomographyAnalysis\n",
    "from qiskit_experiments.library.tomography.basis import PauliMeasurementBasis\n",
    "from qiskit_experiments.library.characterization.analysis import LocalReadoutErrorAnalysis\n",
    "from qiskit_ibm_runtime import QiskitRuntimeService\n",
    "\n",
    "import scipy\n",
    "from numpy import set_printoptions, radians, ndarray, pi, degrees, radians\n",
    "from random import randint\n",
    "from collections import namedtuple\n",
    "\n",
    "import itertools\n",
    "from itertools import product"
   ]
  },
  {
   "cell_type": "code",
   "execution_count": 2,
   "metadata": {},
   "outputs": [],
   "source": [
    "# Set the floating point diplay precision to 2 decimal places, sufficient for our purposes.\n",
    "set_printoptions(precision=3)\n",
    "\n",
    "# Initialise the Qiskit runtime service. \n",
    "service = QiskitRuntimeService()"
   ]
  },
  {
   "cell_type": "code",
   "execution_count": 2,
   "metadata": {},
   "outputs": [],
   "source": [
    "states = [\n",
    "    (radians(-88), radians(79)),\n",
    "    (radians(32), radians(-167)),\n",
    "    (radians(140), radians(125))\n",
    "]"
   ]
  },
  {
   "cell_type": "code",
   "execution_count": 3,
   "metadata": {},
   "outputs": [],
   "source": [
    "def build_circuit(theta, phi) -> QuantumCircuit:\n",
    "    circ = QuantumCircuit(3)\n",
    "\n",
    "    circ.h(0)\n",
    "    circ.u(theta, phi, 0, 1)\n",
    "    circ.cswap(0, 1, 2)\n",
    "\n",
    "    return circ"
   ]
  },
  {
   "cell_type": "code",
   "execution_count": 4,
   "metadata": {},
   "outputs": [],
   "source": [
    "def build_tomography_set(circuit: QuantumCircuit) -> QuantumCircuit:\n",
    "    circuit_x = circuit.copy()\n",
    "    circuit_x.h([1, 2])\n",
    "    circuit_x.measure_all()\n",
    "\n",
    "    circuit_y = circuit.copy()\n",
    "    circuit_y.sdg([1, 2])\n",
    "    circuit_y.h([1, 2])\n",
    "    circuit_y.measure_all()\n",
    "\n",
    "    circuit_z = circuit.copy()\n",
    "    circuit_z.measure_all()\n",
    "\n",
    "    return [circuit_x, circuit_y, circuit_z]\n"
   ]
  },
  {
   "cell_type": "code",
   "execution_count": 6,
   "metadata": {},
   "outputs": [
    {
     "data": {
      "image/png": "[encoded data removed]",
      "text/plain": [
       "<Figure size 747.609x367.889 with 1 Axes>"
      ]
     },
     "execution_count": 6,
     "metadata": {},
     "output_type": "execute_result"
    }
   ],
   "source": [
    "build_tomography_set(build_circuit(*states[0]))[2].draw('mpl')"
   ]
  },
  {
   "cell_type": "code",
   "execution_count": 6,
   "metadata": {},
   "outputs": [],
   "source": [
    "ibm_brisbane = service.get_backend('ibm_brisbane')"
   ]
  },
  {
   "cell_type": "code",
   "execution_count": 7,
   "metadata": {},
   "outputs": [],
   "source": [
    "circuits_to_send = list(itertools.chain.from_iterable([\n",
    "        circuit for circuit in [\n",
    "            build_tomography_set(build_circuit(theta, phi)) for theta, phi in states\n",
    "        ]\n",
    "    ]\n",
    "))\n",
    "\n",
    "circuits_to_send = [transpile(circuit, ibm_brisbane) for circuit in circuits_to_send]"
   ]
  },
  {
   "cell_type": "code",
   "execution_count": 8,
   "metadata": {},
   "outputs": [],
   "source": [
    "def get_all_physical_qubits(circuit_list: list[QuantumCircuit]) -> set[int]:\n",
    "    all_indices = set()\n",
    "    for circ in circuit_list:    \n",
    "        measurement_indices = [instr[1][0]._index for instr in circ.data if instr[0].name == 'measure']\n",
    "        all_indices = all_indices.union(measurement_indices)\n",
    "    return all_indices\n",
    "\n",
    "def get_mitigation_circuits(circuit_list: list[QuantumCircuit]) -> list[QuantumCircuit]:\n",
    "\n",
    "    physical_qubits = get_all_physical_qubits(circuit_list)\n",
    "\n",
    "    num_qubits = len(physical_qubits)\n",
    "    all_0 = QuantumCircuit(127, num_qubits)\n",
    "    all_0.measure(physical_qubits, range(num_qubits))\n",
    "\n",
    "    all_1 = QuantumCircuit(127, num_qubits)\n",
    "    all_1.x(physical_qubits)\n",
    "    all_1.measure(physical_qubits, range(num_qubits))\n",
    "\n",
    "    return [all_0, all_1]"
   ]
  },
  {
   "cell_type": "code",
   "execution_count": 9,
   "metadata": {},
   "outputs": [],
   "source": [
    "circuits_to_send = get_mitigation_circuits(circuits_to_send) + circuits_to_send"
   ]
  },
  {
   "cell_type": "code",
   "execution_count": 10,
   "metadata": {},
   "outputs": [],
   "source": [
    "hardware_job = ibm_brisbane.run(circuits=circuits_to_send)"
   ]
  },
  {
   "cell_type": "code",
   "execution_count": 11,
   "metadata": {},
   "outputs": [
    {
     "name": "stdout",
     "output_type": "stream",
     "text": [
      "Hardware job ID: cw6g0f9bhxtg008wbsbg\n"
     ]
    }
   ],
   "source": [
    "print(f\"Hardware job ID: {hardware_job.job_id()}\")"
   ]
  },
  {
   "cell_type": "markdown",
   "metadata": {},
   "source": [
    "---"
   ]
  },
  {
   "cell_type": "code",
   "execution_count": 18,
   "metadata": {},
   "outputs": [],
   "source": [
    "results = hardware_job.result().get_counts()"
   ]
  },
  {
   "cell_type": "code",
   "execution_count": 19,
   "metadata": {},
   "outputs": [],
   "source": [
    "mem_all_0_counts = results[0]\n",
    "mem_all_1_counts = results[1]\n",
    "\n",
    "state_1_counts = (results[2], results[3], results[4])\n",
    "state_2_counts = (results[5], results[6], results[7])\n",
    "state_3_counts = (results[8], results[9], results[10])"
   ]
  },
  {
   "cell_type": "code",
   "execution_count": 20,
   "metadata": {},
   "outputs": [],
   "source": [
    "def bloch_oordinate(counts_dict: dict) -> float:\n",
    "    if '0' not in counts_dict:\n",
    "        return -1\n",
    "    if '1' not in counts_dict:\n",
    "        return 1\n",
    "    \n",
    "    plus = counts_dict['0']\n",
    "    minus = counts_dict['1']\n",
    "    return (plus - minus) / (plus + minus)\n",
    "\n",
    "\n",
    "def density_op_from_bloch_coordinates(rx, ry, rz):\n",
    "\n",
    "    sqr_norm = rx**2 + ry**2 + rz**2\n",
    "    if sqr_norm > 1:\n",
    "        norm = sqrt(sqr_norm)\n",
    "        rx, ry, rz = rx/norm, ry/norm, rz/norm\n",
    "\n",
    "    op = array([[1 + rz, rx - 1j*ry],\n",
    "                [rx + 1j*ry, 1 - rz]])\n",
    "    \n",
    "    return 0.5 * op\n",
    "\n",
    "\n",
    "def density_op_from_counts_dict(counts_x, counts_y, counts_z):\n",
    "    return density_op_from_bloch_coordinates(\n",
    "        rx=bloch_oordinate(counts_x),\n",
    "        ry=bloch_oordinate(counts_y),\n",
    "        rz=bloch_oordinate(counts_z)\n",
    "    )\n",
    "\n",
    "# Filter the correct counts. If q0 is 0, only count q1, if q0 is 1, only count q1.\n",
    "def process_counts(counts_x: dict, counts_y: dict, counts_z: dict) -> tuple[dict]:\n",
    "    output_x = {'0': 0, '1': 0}\n",
    "    output_y = {'0': 0, '1': 0}\n",
    "    output_z = {'0': 0, '1': 0}\n",
    "\n",
    "    for input_dict, output_dict in zip((counts_x, counts_y, counts_z), (output_x, output_y, output_z)):\n",
    "        for bit_string, counts in input_dict.items():\n",
    "            if bit_string[2] == '0':\n",
    "                output_dict[bit_string[1]] += counts\n",
    "            else:\n",
    "                output_dict[bit_string[0]] += counts\n",
    "    \n",
    "    return output_x, output_y, output_z\n",
    "\n",
    "def print_fidelities(theta, phi, counts_x, counts_y, counts_z):\n",
    "    counts_x, counts_y, counts_z = process_counts(counts_x, counts_y, counts_z)\n",
    "    den_op = density_op_from_counts_dict(counts_x, counts_y, counts_z)\n",
    "\n",
    "    fidelity = state_fidelity(den_op, gen_qubit(theta, phi))\n",
    "    \n",
    "    print(f'Unmitigated state fidelity for\\ttheta {int(degrees(theta))}°\\t phi {int(degrees(phi))}°\\t:\\t{fidelity}')\n"
   ]
  },
  {
   "cell_type": "code",
   "execution_count": 21,
   "metadata": {},
   "outputs": [
    {
     "name": "stdout",
     "output_type": "stream",
     "text": [
      "Unmitigated state fidelity for\ttheta -88°\t phi 79°\t:\t0.9044445936068506\n",
      "Unmitigated state fidelity for\ttheta 32°\t phi -167°\t:\t0.9223419353465977\n",
      "Unmitigated state fidelity for\ttheta 140°\t phi 125°\t:\t0.9169043079868144\n"
     ]
    }
   ],
   "source": [
    "for state, counts in zip(states, (state_1_counts, state_2_counts, state_3_counts)):\n",
    "    print_fidelities(state[0], state[1], counts[0], counts[1], counts[2])"
   ]
  },
  {
   "cell_type": "code",
   "execution_count": null,
   "metadata": {},
   "outputs": [],
   "source": [
    "def get_mitigation_matrix(num_qubits: int, zero_counts: dict[str, int], one_counts: dict[str, int]) -> ndarray:\n",
    "\n",
    "    assignment_matrices = []\n",
    "    \n",
    "    for qubit_idx in range(num_qubits):\n",
    "\n",
    "        # Determine zero state for assignment matrix\n",
    "        zero_count = sum([count for result, count in zero_counts.items() if result[qubit_idx] == '0'])\n",
    "        one_count = sum([count for result, count in zero_counts.items() if result[qubit_idx] == '1'])\n",
    "\n",
    "        # Calculate zero ket\n",
    "        zero_ket = array([[zero_count], \n",
    "                          [one_count]]) / (zero_count + one_count)\n",
    "        \n",
    "        # Determine one state for assignment matrix\n",
    "        zero_count = sum([count for result, count in one_counts.items() if result[qubit_idx] == '0'])\n",
    "        one_count = sum([count for result, count in one_counts.items() if result[qubit_idx] == '1'])\n",
    "\n",
    "        # Calculate one ket\n",
    "        one_ket = array([[zero_count], \n",
    "                         [one_count]]) / (zero_count + one_count)\n",
    "        \n",
    "        assignment_matrix = numpy.concatenate([zero_ket, one_ket], axis=1)\n",
    "\n",
    "        assignment_matrices.append(assignment_matrix)\n",
    "\n",
    "    return tens(*(scipy.linalg.inv(mat) for mat in assignment_matrices))\n",
    "\n",
    "\n",
    "def get_bit_strings(count: int) -> list[str]:\n",
    "    return [''.join(bits) for bits in itertools.product(['0', '1'], repeat=count)]\n",
    "\n",
    "\n",
    "def mitigate_counts(num_qubits: int, mitigation_matrix: ndarray, counts: dict[str, int]) -> dict[str, int]:\n",
    "    \n",
    "    bit_strings = get_bit_strings(num_qubits)\n",
    "\n",
    "    # Get vector of counts\n",
    "    counts_vector = numpy.concatenate(\n",
    "        [array([[counts[bit_string] if bit_string in counts else 0.0]]) for bit_string in bit_strings],\n",
    "        axis=0\n",
    "    )\n",
    "\n",
    "    # Multiply by mitigation matirx\n",
    "    corrected_vector = mitigation_matrix @ counts_vector\n",
    "    corrected_vector = corrected_vector.astype(int)\n",
    "\n",
    "    output = {}\n",
    "    for idx, bit_string in zip(range(2**num_qubits), bit_strings):\n",
    "        output[bit_string] = int(corrected_vector[idx])\n",
    "\n",
    "    return output\n",
    "\n",
    "\n",
    "def print_mitigated_fidelities(theta, phi, counts_x, counts_y, counts_z, mem_0_counts, mem_1_counts):\n",
    "\n",
    "    mitigation_matrix = get_mitigation_matrix(3, mem_0_counts, mem_1_counts)\n",
    "\n",
    "    x_counts_mitigated = mitigate_counts(3, mitigation_matrix, counts_x)\n",
    "    y_counts_mitigated = mitigate_counts(3, mitigation_matrix, counts_y)\n",
    "    z_counts_mitigated = mitigate_counts(3, mitigation_matrix, counts_z)    \n",
    "\n",
    "    x_counts_mitigated, y_counts_mitigated, z_counts_mitigated = process_counts(x_counts_mitigated, y_counts_mitigated, z_counts_mitigated)\n",
    "\n",
    "    den_op = density_op_from_counts_dict(x_counts_mitigated, y_counts_mitigated, z_counts_mitigated)\n",
    "\n",
    "    fidelity = state_fidelity(den_op, gen_qubit(theta, phi))\n",
    "\n",
    "    print(f'Mitigated state fidelity for\\ttheta {int(degrees(theta))}°\\t phi {int(degrees(phi))}°\\t:\\t{fidelity}')"
   ]
  },
  {
   "cell_type": "code",
   "execution_count": 23,
   "metadata": {},
   "outputs": [
    {
     "name": "stdout",
     "output_type": "stream",
     "text": [
      "Mitigated state fidelity for\ttheta -88°\t phi 79°\t:\t0.9193003480676969\n",
      "Mitigated state fidelity for\ttheta 32°\t phi -167°\t:\t0.9300554704822767\n",
      "Mitigated state fidelity for\ttheta 140°\t phi 125°\t:\t0.9396119023259795\n"
     ]
    }
   ],
   "source": [
    "for state, counts in zip(states, (state_1_counts, state_2_counts, state_3_counts)):\n",
    "    print_mitigated_fidelities(state[0], state[1], counts[0], counts[1], counts[2], mem_all_0_counts, mem_all_1_counts)"
   ]
  }
 ],
 "metadata": {
  "kernelspec": {
   "display_name": "Python 3",
   "language": "python",
   "name": "python3"
  },
  "language_info": {
   "codemirror_mode": {
    "name": "ipython",
    "version": 3
   },
   "file_extension": ".py",
   "mimetype": "text/x-python",
   "name": "python",
   "nbconvert_exporter": "python",
   "pygments_lexer": "ipython3",
   "version": "3.11.1"
  }
 },
 "nbformat": 4,
 "nbformat_minor": 2
}
