{
 "cells": [
  {
   "cell_type": "markdown",
   "metadata": {},
   "source": [
    "# Single Router - Standard Measurements"
   ]
  },
  {
   "cell_type": "code",
   "execution_count": 1,
   "metadata": {},
   "outputs": [],
   "source": [
    "import sys\n",
    "sys.path.append('..') # Search for custom module in the top level. \n",
    "\n",
    "# Import my custom modules.\n",
    "from allens_quantum_package.functions import * \n",
    "from allens_quantum_package.operators import *\n",
    "\n",
    "from qiskit import *\n",
    "from qiskit.quantum_info import state_fidelity\n",
    "from qiskit_ibm_runtime import QiskitRuntimeService\n",
    "\n",
    "import scipy\n",
    "import numpy\n",
    "from numpy import set_printoptions, radians, ndarray, radians, array, sqrt\n",
    "\n",
    "import itertools"
   ]
  },
  {
   "cell_type": "code",
   "execution_count": 2,
   "metadata": {},
   "outputs": [],
   "source": [
    "# Set the floating point diplay precision to 3 decimal places, sufficient for our purposes.\n",
    "set_printoptions(precision=3)\n",
    "\n",
    "# Initialise the Qiskit runtime service. \n",
    "service = QiskitRuntimeService()"
   ]
  },
  {
   "cell_type": "code",
   "execution_count": 3,
   "metadata": {},
   "outputs": [],
   "source": [
    "states = [\n",
    "    (radians(-88), radians(79)),\n",
    "    (radians(32), radians(-167)),\n",
    "    (radians(140), radians(125))\n",
    "]"
   ]
  },
  {
   "cell_type": "code",
   "execution_count": 4,
   "metadata": {},
   "outputs": [],
   "source": [
    "def build_circuit(theta, phi) -> QuantumCircuit:\n",
    "    circ = QuantumCircuit(3)\n",
    "\n",
    "    circ.h(0)\n",
    "    circ.u(theta, phi, 0, 1)\n",
    "    circ.cswap(0, 1, 2)\n",
    "\n",
    "    return circ"
   ]
  },
  {
   "cell_type": "code",
   "execution_count": 5,
   "metadata": {},
   "outputs": [
    {
     "data": {
      "text/html": [
       "<pre style=\"word-wrap: normal;white-space: pre;background: #fff0;line-height: 1.1;font-family: &quot;Courier New&quot;,Courier,monospace\">              ┌───┐            \n",
       "q_0: ─────────┤ H ├──────────■─\n",
       "     ┌────────┴───┴────────┐ │ \n",
       "q_1: ┤ U(-1.5359,1.3788,0) ├─X─\n",
       "     └─────────────────────┘ │ \n",
       "q_2: ────────────────────────X─\n",
       "                               </pre>"
      ],
      "text/plain": [
       "              ┌───┐            \n",
       "q_0: ─────────┤ H ├──────────■─\n",
       "     ┌────────┴───┴────────┐ │ \n",
       "q_1: ┤ U(-1.5359,1.3788,0) ├─X─\n",
       "     └─────────────────────┘ │ \n",
       "q_2: ────────────────────────X─\n",
       "                               "
      ]
     },
     "execution_count": 5,
     "metadata": {},
     "output_type": "execute_result"
    }
   ],
   "source": [
    "build_circuit(*states[0]).draw()"
   ]
  },
  {
   "cell_type": "code",
   "execution_count": 6,
   "metadata": {},
   "outputs": [],
   "source": [
    "def add_basis_meas(circuit, qubit, basis='z') -> QuantumCircuit:\n",
    "    circ = circuit.copy()\n",
    "    circ.barrier()\n",
    "\n",
    "    if basis == 'x':\n",
    "        circ.h(qubit)\n",
    "    elif basis == 'y':\n",
    "        circ.sdg(qubit)\n",
    "        circ.h(qubit)\n",
    "\n",
    "    circ.measure_all()\n",
    "\n",
    "    return circ\n",
    "\n",
    "\n",
    "# Create named tuple object, for easy indexing, e.g. \".x\", instead of \"[0]\"\n",
    "TomographySet = namedtuple('TomographySet', ['x', 'y', 'z'])\n",
    "\n",
    "\n",
    "def get_tomography_circuits(circuit, qubit) -> list[QuantumCircuit]:\n",
    "    return [\n",
    "        add_basis_meas(circuit, qubit, 'x'),\n",
    "        add_basis_meas(circuit, qubit, 'y'),\n",
    "        add_basis_meas(circuit, qubit, 'z')\n",
    "    ]"
   ]
  },
  {
   "cell_type": "code",
   "execution_count": 7,
   "metadata": {},
   "outputs": [
    {
     "data": {
      "text/html": [
       "<pre style=\"word-wrap: normal;white-space: pre;background: #fff0;line-height: 1.1;font-family: &quot;Courier New&quot;,Courier,monospace\">                 ┌───┐             ░       ░ ┌─┐      \n",
       "   q_0: ─────────┤ H ├──────────■──░───────░─┤M├──────\n",
       "        ┌────────┴───┴────────┐ │  ░       ░ └╥┘┌─┐   \n",
       "   q_1: ┤ U(-1.5359,1.3788,0) ├─X──░───────░──╫─┤M├───\n",
       "        └─────────────────────┘ │  ░ ┌───┐ ░  ║ └╥┘┌─┐\n",
       "   q_2: ────────────────────────X──░─┤ H ├─░──╫──╫─┤M├\n",
       "                                   ░ └───┘ ░  ║  ║ └╥┘\n",
       "meas: 3/══════════════════════════════════════╩══╩══╩═\n",
       "                                              0  1  2 </pre>"
      ],
      "text/plain": [
       "                 ┌───┐             ░       ░ ┌─┐      \n",
       "   q_0: ─────────┤ H ├──────────■──░───────░─┤M├──────\n",
       "        ┌────────┴───┴────────┐ │  ░       ░ └╥┘┌─┐   \n",
       "   q_1: ┤ U(-1.5359,1.3788,0) ├─X──░───────░──╫─┤M├───\n",
       "        └─────────────────────┘ │  ░ ┌───┐ ░  ║ └╥┘┌─┐\n",
       "   q_2: ────────────────────────X──░─┤ H ├─░──╫──╫─┤M├\n",
       "                                   ░ └───┘ ░  ║  ║ └╥┘\n",
       "meas: 3/══════════════════════════════════════╩══╩══╩═\n",
       "                                              0  1  2 "
      ]
     },
     "execution_count": 7,
     "metadata": {},
     "output_type": "execute_result"
    }
   ],
   "source": [
    "get_tomography_circuits(build_circuit(*states[0]), 2)[0].draw()"
   ]
  },
  {
   "cell_type": "code",
   "execution_count": 8,
   "metadata": {},
   "outputs": [],
   "source": [
    "def generate_tomography_sets(theta, phi) -> list[list[QuantumCircuit]]:\n",
    "    return [ \n",
    "        *get_tomography_circuits(\n",
    "            build_circuit(theta, phi), 1\n",
    "        ),\n",
    "        *get_tomography_circuits(\n",
    "            build_circuit(theta, phi), 2\n",
    "        )\n",
    "    ]"
   ]
  },
  {
   "cell_type": "code",
   "execution_count": 9,
   "metadata": {},
   "outputs": [],
   "source": [
    "ibm_brisbane = service.get_backend('ibm_brisbane')"
   ]
  },
  {
   "cell_type": "code",
   "execution_count": 10,
   "metadata": {},
   "outputs": [],
   "source": [
    "circuits_to_send = list(itertools.chain.from_iterable([\n",
    "        circuit for circuit in [\n",
    "            itertools.chain.from_iterable(generate_tomography_sets(theta, phi) for theta, phi in states)\n",
    "        ]\n",
    "    ]\n",
    "))\n",
    "\n",
    "circuits_to_send = [transpile(circuit, ibm_brisbane) for circuit in circuits_to_send]"
   ]
  },
  {
   "cell_type": "code",
   "execution_count": 11,
   "metadata": {},
   "outputs": [],
   "source": [
    "def get_all_physical_qubits(circuit_list: list[QuantumCircuit]) -> set[int]:\n",
    "    all_indices = set()\n",
    "    for circ in circuit_list:    \n",
    "        measurement_indices = [instr[1][0]._index for instr in circ.data if instr[0].name == 'measure']\n",
    "        all_indices = all_indices.union(measurement_indices)\n",
    "    return all_indices\n",
    "\n",
    "\n",
    "def get_mitigation_circuits(circuit_list: list[QuantumCircuit]) -> list[QuantumCircuit]:\n",
    "\n",
    "    physical_qubits = get_all_physical_qubits(circuit_list)\n",
    "\n",
    "    num_qubits = len(physical_qubits)\n",
    "    all_0 = QuantumCircuit(127, num_qubits)\n",
    "    all_0.measure(physical_qubits, range(num_qubits))\n",
    "\n",
    "    all_1 = QuantumCircuit(127, num_qubits)\n",
    "    all_1.x(physical_qubits)\n",
    "    all_1.measure(physical_qubits, range(num_qubits))\n",
    "\n",
    "    return [all_0, all_1]"
   ]
  },
  {
   "cell_type": "code",
   "execution_count": 12,
   "metadata": {},
   "outputs": [],
   "source": [
    "circuits_to_send = get_mitigation_circuits(circuits_to_send) + circuits_to_send"
   ]
  },
  {
   "cell_type": "code",
   "execution_count": 13,
   "metadata": {},
   "outputs": [],
   "source": [
    "hardware_job = ibm_brisbane.run(circuits=circuits_to_send)"
   ]
  },
  {
   "cell_type": "code",
   "execution_count": 14,
   "metadata": {},
   "outputs": [
    {
     "name": "stdout",
     "output_type": "stream",
     "text": [
      "Hardware job ID: cw6gjwkjzdhg008e2ya0\n"
     ]
    }
   ],
   "source": [
    "print(f\"Hardware job ID: {hardware_job.job_id()}\")"
   ]
  },
  {
   "cell_type": "markdown",
   "metadata": {},
   "source": [
    "---"
   ]
  },
  {
   "cell_type": "code",
   "execution_count": 15,
   "metadata": {},
   "outputs": [],
   "source": [
    "results = hardware_job.result().get_counts()"
   ]
  },
  {
   "cell_type": "code",
   "execution_count": 16,
   "metadata": {},
   "outputs": [
    {
     "data": {
      "text/plain": [
       "[{'100': 59, '101': 1, '110': 1, '001': 46, '010': 14, '000': 3879},\n",
       " {'111': 3877, '101': 24, '011': 35, '110': 63, '010': 1},\n",
       " {'101': 478,\n",
       "  '011': 506,\n",
       "  '010': 1245,\n",
       "  '000': 602,\n",
       "  '111': 528,\n",
       "  '100': 56,\n",
       "  '001': 545,\n",
       "  '110': 40},\n",
       " {'101': 511,\n",
       "  '011': 511,\n",
       "  '000': 108,\n",
       "  '010': 1749,\n",
       "  '111': 492,\n",
       "  '100': 45,\n",
       "  '001': 548,\n",
       "  '110': 36},\n",
       " {'101': 956,\n",
       "  '011': 58,\n",
       "  '010': 985,\n",
       "  '000': 822,\n",
       "  '111': 52,\n",
       "  '100': 48,\n",
       "  '001': 1031,\n",
       "  '110': 48},\n",
       " {'101': 1494,\n",
       "  '011': 29,\n",
       "  '000': 408,\n",
       "  '100': 459,\n",
       "  '111': 47,\n",
       "  '010': 492,\n",
       "  '001': 531,\n",
       "  '110': 540},\n",
       " {'101': 1696,\n",
       "  '011': 45,\n",
       "  '010': 498,\n",
       "  '100': 468,\n",
       "  '000': 443,\n",
       "  '111': 66,\n",
       "  '001': 233,\n",
       "  '110': 551},\n",
       " {'101': 957,\n",
       "  '011': 51,\n",
       "  '010': 980,\n",
       "  '000': 882,\n",
       "  '111': 38,\n",
       "  '100': 72,\n",
       "  '001': 985,\n",
       "  '110': 35},\n",
       " {'101': 134,\n",
       "  '011': 906,\n",
       "  '000': 393,\n",
       "  '010': 1417,\n",
       "  '111': 133,\n",
       "  '100': 45,\n",
       "  '001': 930,\n",
       "  '110': 42},\n",
       " {'101': 153,\n",
       "  '011': 908,\n",
       "  '000': 825,\n",
       "  '010': 980,\n",
       "  '111': 107,\n",
       "  '100': 50,\n",
       "  '001': 936,\n",
       "  '110': 41},\n",
       " {'101': 199,\n",
       "  '011': 51,\n",
       "  '010': 234,\n",
       "  '000': 1612,\n",
       "  '111': 50,\n",
       "  '100': 45,\n",
       "  '001': 1764,\n",
       "  '110': 45},\n",
       " {'101': 1504,\n",
       "  '011': 32,\n",
       "  '000': 808,\n",
       "  '010': 106,\n",
       "  '111': 68,\n",
       "  '100': 821,\n",
       "  '001': 515,\n",
       "  '110': 146},\n",
       " {'101': 917,\n",
       "  '011': 34,\n",
       "  '010': 125,\n",
       "  '000': 805,\n",
       "  '100': 862,\n",
       "  '111': 55,\n",
       "  '001': 1072,\n",
       "  '110': 130},\n",
       " {'101': 213,\n",
       "  '011': 46,\n",
       "  '000': 1661,\n",
       "  '010': 209,\n",
       "  '111': 36,\n",
       "  '100': 34,\n",
       "  '001': 1757,\n",
       "  '110': 44},\n",
       " {'101': 796,\n",
       "  '011': 207,\n",
       "  '010': 1120,\n",
       "  '100': 18,\n",
       "  '111': 880,\n",
       "  '000': 764,\n",
       "  '001': 172,\n",
       "  '110': 43},\n",
       " {'101': 868,\n",
       "  '011': 147,\n",
       "  '000': 1481,\n",
       "  '100': 47,\n",
       "  '111': 801,\n",
       "  '010': 409,\n",
       "  '001': 203,\n",
       "  '110': 44},\n",
       " {'101': 1658,\n",
       "  '011': 50,\n",
       "  '010': 1622,\n",
       "  '100': 45,\n",
       "  '000': 260,\n",
       "  '111': 29,\n",
       "  '001': 306,\n",
       "  '110': 30},\n",
       " {'101': 1037,\n",
       "  '011': 27,\n",
       "  '000': 183,\n",
       "  '100': 145,\n",
       "  '010': 839,\n",
       "  '111': 67,\n",
       "  '001': 834,\n",
       "  '110': 868},\n",
       " {'101': 397,\n",
       "  '011': 52,\n",
       "  '000': 192,\n",
       "  '100': 157,\n",
       "  '010': 821,\n",
       "  '111': 51,\n",
       "  '001': 1531,\n",
       "  '110': 799},\n",
       " {'101': 1682,\n",
       "  '011': 56,\n",
       "  '010': 1625,\n",
       "  '100': 62,\n",
       "  '111': 34,\n",
       "  '000': 233,\n",
       "  '001': 273,\n",
       "  '110': 35}]"
      ]
     },
     "execution_count": 16,
     "metadata": {},
     "output_type": "execute_result"
    }
   ],
   "source": [
    "results"
   ]
  },
  {
   "cell_type": "code",
   "execution_count": 19,
   "metadata": {},
   "outputs": [],
   "source": [
    "def get_combined_xyz_counts_for_circuit(counts_list: list) -> tuple[dict]:\n",
    "\n",
    "    output_qubit_1 = []\n",
    "    for counts in counts_list[0:3]:\n",
    "        counts_dict = {}\n",
    "\n",
    "        counts_dict['0'] = sum(count for bit_string, count in counts.items() if bit_string[2] == '0' and bit_string[1] == '0')\n",
    "        counts_dict['1'] = sum(count for bit_string, count in counts.items() if bit_string[2] == '0' and bit_string[1] == '1')\n",
    "\n",
    "        output_qubit_1.append(counts_dict)\n",
    "\n",
    "    output_qubit_2 = []\n",
    "    for counts in counts_list[3:6]:\n",
    "        counts_dict = {}\n",
    "        \n",
    "        counts_dict['0'] = sum(count for bit_string, count in counts.items() if bit_string[2] == '1' and bit_string[0] == '0')\n",
    "        counts_dict['1'] = sum(count for bit_string, count in counts.items() if bit_string[2] == '1' and bit_string[0] == '1')       \n",
    "\n",
    "        output_qubit_2.append(counts_dict)\n",
    "\n",
    "    output = (add_dicts(dict_1, dict_2) for dict_1, dict_2 in zip(output_qubit_1, output_qubit_2))   \n",
    "    \n",
    "    return tuple(output)\n",
    "\n",
    "\n",
    "def print_unmitigated_fidelities_combined(counts, theta, phi):\n",
    "\n",
    "    qubit = density_op_from_counts_dict(*get_combined_xyz_counts_for_circuit(counts))\n",
    "\n",
    "    print(get_combined_xyz_counts_for_circuit(counts))\n",
    "    print(qubit)\n",
    "\n",
    "    psi = gen_qubit(theta, phi)\n",
    "\n",
    "    fidelity_q = state_fidelity(qubit, psi)\n",
    "\n",
    "    print(f'State fidelity from combined counts: {fidelity_q}\\n')"
   ]
  },
  {
   "cell_type": "code",
   "execution_count": 20,
   "metadata": {},
   "outputs": [
    {
     "name": "stdout",
     "output_type": "stream",
     "text": [
      "({'0': 1218, '1': 2826}, {'0': 431, '1': 3547}, {'0': 1906, '1': 2028})\n",
      "[[ 0.484+0.j    -0.199+0.392j]\n",
      " [-0.199-0.392j  0.516+0.j   ]]\n",
      "State fidelity from combined counts: 0.9215951711827735\n",
      "\n",
      "({'0': 985, '1': 3031}, {'0': 1981, '1': 1993}, {'0': 3460, '1': 528})\n",
      "[[ 0.868+0.j    -0.255+0.002j]\n",
      " [-0.255-0.002j  0.132+0.j   ]]\n",
      "State fidelity from combined counts: 0.9434520391352529\n",
      "\n",
      "({'0': 1643, '1': 2267}, {'0': 3111, '1': 901}, {'0': 634, '1': 3368})\n",
      "[[ 0.158+0.j    -0.08 -0.275j]\n",
      " [-0.08 +0.275j  0.842+0.j   ]]\n",
      "State fidelity from combined counts: 0.9361062735225293\n",
      "\n"
     ]
    }
   ],
   "source": [
    "print_unmitigated_fidelities_combined(results[2:8], *states[0])\n",
    "print_unmitigated_fidelities_combined(results[8:14], *states[1])\n",
    "print_unmitigated_fidelities_combined(results[14:20], *states[2])"
   ]
  },
  {
   "cell_type": "code",
   "execution_count": 21,
   "metadata": {},
   "outputs": [],
   "source": [
    "# Gets the map from a physical qubit to a classical bit for the mitigation calibration matrices\n",
    "def get_qubit_to_clbit_mappings_for_mitigation(circuit: QuantumCircuit) -> dict[int, int]:\n",
    "    return dict(\n",
    "        ((instr[1][0]._index, instr[2][0]._index) for instr in circuit.data if instr[0].name == 'measure')\n",
    "    )\n",
    "\n",
    "# Gets the map from physical qubit to mitigation matrix\n",
    "def get_assignment_matrices(mappings: dict, counts_0: dict, counts_1: dict) -> dict[int, ndarray]:\n",
    "\n",
    "    output = {}\n",
    "\n",
    "    for physical_qubit, classical_bit in mappings.items():\n",
    "        \n",
    "        # Determine zero state for assignment matrix\n",
    "        result_0 = sum([count for bit_string, count in counts_0.items() if bit_string[classical_bit] == '0'])\n",
    "        result_1 = sum([count for bit_string, count in counts_0.items() if bit_string[classical_bit] == '1'])\n",
    "        \n",
    "        # Calculate zero ket\n",
    "        zero_ket = array([[result_0], \n",
    "                          [result_1]]) / (result_0 + result_1)\n",
    "        \n",
    "        # Determine one state for assignment matrix\n",
    "        result_0 = sum([count for bit_string, count in counts_1.items() if bit_string[classical_bit] == '0'])\n",
    "        result_1 = sum([count for bit_string, count in counts_1.items() if bit_string[classical_bit] == '1'])\n",
    "        \n",
    "        # Calculate zero ket\n",
    "        one_ket = array([[result_0], \n",
    "                         [result_1]]) / (result_0 + result_1)\n",
    "        \n",
    "        assignment_matrix = numpy.concatenate([zero_ket, one_ket], axis=1)\n",
    "\n",
    "        output[physical_qubit] = assignment_matrix\n",
    "    \n",
    "    return output\n",
    "\n",
    "# Get the list of physical qubits in the same order as the classical bits \n",
    "def get_qubits_in_clbit_order(circuit: QuantumCircuit) -> list[int]:\n",
    "    \n",
    "    cl_bit_to_qbit_map = dict((instr[2][0]._index, instr[1][0]._index) for instr in circuit.data if instr[0].name == 'measure')\n",
    "\n",
    "    return [*cl_bit_to_qbit_map.values()]\n",
    "    \n",
    "\n",
    "# Get the tensor of all mitigation matrices in the correct order for each circuit\n",
    "def get_mitigation_matrix(circuit: QuantumCircuit, assignment_mappings: dict) -> ndarray:\n",
    "    ordered_physical_qubits = get_qubits_in_clbit_order(circuit)\n",
    "\n",
    "    ordered_physical_qubits.reverse()\n",
    "\n",
    "    assignment_matrices = [assignment_mappings[qubit] for qubit in ordered_physical_qubits]\n",
    "\n",
    "    return tens(*(scipy.linalg.inv(mat) for mat in assignment_matrices))\n",
    "\n",
    "\n",
    "def get_bit_strings(count: int) -> list[str]:\n",
    "    return [''.join(bits) for bits in itertools.product(['0', '1'], repeat=count)]\n",
    "\n",
    "\n",
    "def get_corrected_counts(circuit: QuantumCircuit, counts_for_mitigation: dict, assignment_mappings: dict, num_qubits: int) -> dict[str, int]:\n",
    "    bit_strings = get_bit_strings(num_qubits)\n",
    "\n",
    "    counts_list = []\n",
    "    for bit_string in bit_strings:\n",
    "        counts_list.append(counts_for_mitigation[bit_string] if bit_string in counts_for_mitigation else 0)\n",
    "    \n",
    "    # Get vector of counts\n",
    "    counts_vector = numpy.concatenate(\n",
    "        array([[count for count in counts_list]]),\n",
    "        axis=0\n",
    "    )\n",
    "\n",
    "    mitigation_matrix = get_mitigation_matrix(circuit, assignment_mappings)\n",
    "    \n",
    "    # Multiply by mitigation matirx\n",
    "    corrected_vector = mitigation_matrix @ counts_vector\n",
    "    corrected_vector = corrected_vector.astype(int)\n",
    "    \n",
    "    output = {}\n",
    "    for idx, bit_string in zip(range(2**num_qubits), bit_strings):\n",
    "        output[bit_string] = int(corrected_vector[idx])\n",
    "    \n",
    "    return output"
   ]
  },
  {
   "cell_type": "code",
   "execution_count": 22,
   "metadata": {},
   "outputs": [],
   "source": [
    "# Get list of qubit to clbit mappings for the mitigation circuits.\n",
    "mitigation_mappings = get_qubit_to_clbit_mappings_for_mitigation(circuits_to_send[0])\n",
    "\n",
    "# Calculate assignment matrices for each qubit. \n",
    "assignment_matrices = get_assignment_matrices(mitigation_mappings, results[0], results[1])"
   ]
  },
  {
   "cell_type": "code",
   "execution_count": 23,
   "metadata": {},
   "outputs": [],
   "source": [
    "def print_mitigated_fidelities_combined(circuits, counts, assignment_matrices, num_qubits, theta, phi):\n",
    "\n",
    "    mitigated_counts = []\n",
    "\n",
    "    for circuit, count in zip(circuits, counts):\n",
    "        mitigated_counts.append(get_corrected_counts(circuit, count, assignment_matrices, num_qubits))\n",
    "\n",
    "    qubit = density_op_from_counts_dict(*get_combined_xyz_counts_for_circuit(mitigated_counts))\n",
    "    \n",
    "    print(get_combined_xyz_counts_for_circuit(mitigated_counts))\n",
    "    print(qubit)\n",
    "\n",
    "    psi = gen_qubit(theta, phi)\n",
    "\n",
    "    fidelity_q = state_fidelity(qubit, psi)\n",
    "\n",
    "    print(f'Mitigated state fidelity from combined counts: {fidelity_q}\\n')"
   ]
  },
  {
   "cell_type": "code",
   "execution_count": 25,
   "metadata": {},
   "outputs": [
    {
     "name": "stdout",
     "output_type": "stream",
     "text": [
      "({'0': 1185, '1': 2857}, {'0': 373, '1': 3600}, {'0': 1872, '1': 2057})\n",
      "[[ 0.476+0.j    -0.207+0.406j]\n",
      " [-0.207-0.406j  0.524+0.j   ]]\n",
      "Mitigated state fidelity from combined counts: 0.9370309601646087\n",
      "\n",
      "({'0': 945, '1': 3068}, {'0': 1974, '1': 1997}, {'0': 3475, '1': 509})\n",
      "[[ 0.872+0.j    -0.265+0.003j]\n",
      " [-0.265-0.003j  0.128+0.j   ]]\n",
      "Mitigated state fidelity from combined counts: 0.9526009308094942\n",
      "\n",
      "({'0': 1624, '1': 2279}, {'0': 3136, '1': 872}, {'0': 558, '1': 3439})\n",
      "[[ 0.14 +0.j    -0.084-0.282j]\n",
      " [-0.084+0.282j  0.86 +0.j   ]]\n",
      "Mitigated state fidelity from combined counts: 0.9557289555413911\n",
      "\n"
     ]
    }
   ],
   "source": [
    "print_mitigated_fidelities_combined(circuits_to_send[2:8], results[2:8], assignment_matrices, 3, *states[0])\n",
    "print_mitigated_fidelities_combined(circuits_to_send[8:14], results[8:14], assignment_matrices, 3, *states[1])\n",
    "print_mitigated_fidelities_combined(circuits_to_send[14:20], results[14:20], assignment_matrices, 3, *states[2])"
   ]
  },
  {
   "cell_type": "code",
   "execution_count": null,
   "metadata": {},
   "outputs": [],
   "source": []
  }
 ],
 "metadata": {
  "kernelspec": {
   "display_name": "Python 3",
   "language": "python",
   "name": "python3"
  },
  "language_info": {
   "codemirror_mode": {
    "name": "ipython",
    "version": 3
   },
   "file_extension": ".py",
   "mimetype": "text/x-python",
   "name": "python",
   "nbconvert_exporter": "python",
   "pygments_lexer": "ipython3",
   "version": "3.11.1"
  }
 },
 "nbformat": 4,
 "nbformat_minor": 2
}
